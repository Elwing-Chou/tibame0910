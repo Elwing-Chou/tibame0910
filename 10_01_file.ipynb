{
  "nbformat": 4,
  "nbformat_minor": 0,
  "metadata": {
    "colab": {
      "provenance": [],
      "authorship_tag": "ABX9TyMOP+dIm8UyHnH+V5EnH9XP",
      "include_colab_link": true
    },
    "kernelspec": {
      "name": "python3",
      "display_name": "Python 3"
    },
    "language_info": {
      "name": "python"
    }
  },
  "cells": [
    {
      "cell_type": "markdown",
      "metadata": {
        "id": "view-in-github",
        "colab_type": "text"
      },
      "source": [
        "<a href=\"https://colab.research.google.com/github/Elwing-Chou/tibame0910/blob/main/10_01_file.ipynb\" target=\"_parent\"><img src=\"https://colab.research.google.com/assets/colab-badge.svg\" alt=\"Open In Colab\"/></a>"
      ]
    },
    {
      "cell_type": "code",
      "execution_count": 2,
      "metadata": {
        "id": "miisCjNdwjaY"
      },
      "outputs": [],
      "source": [
        "f = open(\"a.txt\", \"w\", encoding=\"utf-8\")\n",
        "# 寫入功能: write(f, \"abcde\")  改成\n",
        "# 專屬功能: f.write(\"abcde\")\n",
        "# 逃避字元: \\  n   t\n",
        "f.write(\"我是誰\\n\")\n",
        "f.write(\"我在哪裡\")\n",
        "# 關閉功能: close(f) 改成\n",
        "# 專屬功能: f.close()\n",
        "f.close()"
      ]
    },
    {
      "cell_type": "code",
      "source": [
        "f = open(\"a.txt\", \"r\", encoding=\"utf-8\")\n",
        "# 以前: s = read(f)\n",
        "s = f.read()\n",
        "print(s)\n",
        "f.close()"
      ],
      "metadata": {
        "colab": {
          "base_uri": "https://localhost:8080/"
        },
        "id": "SGt4yfMo28YM",
        "outputId": "8593de3a-2093-4400-8c60-1c8369b5ea48"
      },
      "execution_count": 4,
      "outputs": [
        {
          "output_type": "stream",
          "name": "stdout",
          "text": [
            "我是誰\n",
            "我在哪裡\n"
          ]
        }
      ]
    }
  ]
}