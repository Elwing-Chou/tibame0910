{
  "nbformat": 4,
  "nbformat_minor": 0,
  "metadata": {
    "colab": {
      "provenance": [],
      "authorship_tag": "ABX9TyN5y9BK4KZj/jJb4x/70hI6",
      "include_colab_link": true
    },
    "kernelspec": {
      "name": "python3",
      "display_name": "Python 3"
    },
    "language_info": {
      "name": "python"
    }
  },
  "cells": [
    {
      "cell_type": "markdown",
      "metadata": {
        "id": "view-in-github",
        "colab_type": "text"
      },
      "source": [
        "<a href=\"https://colab.research.google.com/github/Elwing-Chou/tibame0910/blob/main/10_01_file.ipynb\" target=\"_parent\"><img src=\"https://colab.research.google.com/assets/colab-badge.svg\" alt=\"Open In Colab\"/></a>"
      ]
    },
    {
      "cell_type": "code",
      "execution_count": 2,
      "metadata": {
        "id": "miisCjNdwjaY"
      },
      "outputs": [],
      "source": [
        "f = open(\"a.txt\", \"w\", encoding=\"utf-8\")\n",
        "# 寫入功能: write(f, \"abcde\")  改成\n",
        "# 專屬功能: f.write(\"abcde\")\n",
        "# 逃避字元: \\  n   t\n",
        "f.write(\"我是誰\\n\")\n",
        "f.write(\"我在哪裡\")\n",
        "# 關閉功能: close(f) 改成\n",
        "# 專屬功能: f.close()\n",
        "f.close()"
      ]
    },
    {
      "cell_type": "code",
      "source": [
        "f = open(\"a.txt\", \"r\", encoding=\"utf-8\")\n",
        "# 以前: s = read(f)\n",
        "s = f.read()\n",
        "print(s)\n",
        "f.close()"
      ],
      "metadata": {
        "colab": {
          "base_uri": "https://localhost:8080/"
        },
        "id": "SGt4yfMo28YM",
        "outputId": "8593de3a-2093-4400-8c60-1c8369b5ea48"
      },
      "execution_count": 4,
      "outputs": [
        {
          "output_type": "stream",
          "name": "stdout",
          "text": [
            "我是誰\n",
            "我在哪裡\n"
          ]
        }
      ]
    },
    {
      "cell_type": "code",
      "source": [
        "scores = [30, 20, 40, 80]\n",
        "print(min(scores),\n",
        "   max(scores),\n",
        "   sum(scores),\n",
        "   len(scores))\n",
        "print(20 in scores)\n",
        "# key->value 查詢  查東西[key]\n",
        "print(scores[0])\n",
        "# print(scores[len(scores)-1])\n",
        "# 反向key: -4 -3 -2 -1\n",
        "print(scores[-1])\n",
        "# 取段 查東西[開始:結束(不包含)]\n",
        "# 1:3 1 2 3(X)\n",
        "print(scores[1:3])\n",
        "print(scores[1:-1])\n",
        "print(scores[:3])\n",
        "print(scores[1:])\n",
        "# 取段並且跳號 查東西[開始:結束:幾個一跳]\n",
        "# scores[2:11:3] [2] [5] [8] [11](X)\n",
        "print(scores[::2])\n",
        "print(scores[1::2])\n",
        "# 反向跳號: !!!開始要比結束右邊\n",
        "# scores[11:2:-3] [11] [8] [5] [2](x)\n",
        "print(scores[::-1])\n",
        "# !!!! remember: [0] [-1] [::-1]"
      ],
      "metadata": {
        "colab": {
          "base_uri": "https://localhost:8080/"
        },
        "id": "LmnLr2rS4ZgT",
        "outputId": "475b1a87-3e0e-4658-8655-6f5ac6a7ef64"
      },
      "execution_count": 16,
      "outputs": [
        {
          "output_type": "stream",
          "name": "stdout",
          "text": [
            "20 80 170 4\n",
            "True\n",
            "30\n",
            "80\n",
            "[20, 40]\n",
            "[20, 40]\n",
            "[30, 20, 40]\n",
            "[20, 40, 80]\n",
            "[30, 40]\n",
            "[20, 80]\n",
            "[80, 40, 20, 30]\n"
          ]
        }
      ]
    }
  ]
}