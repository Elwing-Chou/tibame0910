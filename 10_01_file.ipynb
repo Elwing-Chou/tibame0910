{
  "nbformat": 4,
  "nbformat_minor": 0,
  "metadata": {
    "colab": {
      "provenance": [],
      "authorship_tag": "ABX9TyM0dFU/4CQoXwCRBDnQaiYZ",
      "include_colab_link": true
    },
    "kernelspec": {
      "name": "python3",
      "display_name": "Python 3"
    },
    "language_info": {
      "name": "python"
    }
  },
  "cells": [
    {
      "cell_type": "markdown",
      "metadata": {
        "id": "view-in-github",
        "colab_type": "text"
      },
      "source": [
        "<a href=\"https://colab.research.google.com/github/Elwing-Chou/tibame0910/blob/main/10_01_file.ipynb\" target=\"_parent\"><img src=\"https://colab.research.google.com/assets/colab-badge.svg\" alt=\"Open In Colab\"/></a>"
      ]
    },
    {
      "cell_type": "code",
      "execution_count": 2,
      "metadata": {
        "id": "miisCjNdwjaY"
      },
      "outputs": [],
      "source": [
        "f = open(\"a.txt\", \"w\", encoding=\"utf-8\")\n",
        "# 寫入功能: write(f, \"abcde\")  改成\n",
        "# 專屬功能: f.write(\"abcde\")\n",
        "# 逃避字元: \\  n   t\n",
        "f.write(\"我是誰\\n\")\n",
        "f.write(\"我在哪裡\")\n",
        "# 關閉功能: close(f) 改成\n",
        "# 專屬功能: f.close()\n",
        "f.close()"
      ]
    },
    {
      "cell_type": "code",
      "source": [
        "f = open(\"a.txt\", \"r\", encoding=\"utf-8\")\n",
        "# 以前: s = read(f)\n",
        "s = f.read()\n",
        "print(s)\n",
        "f.close()"
      ],
      "metadata": {
        "colab": {
          "base_uri": "https://localhost:8080/"
        },
        "id": "SGt4yfMo28YM",
        "outputId": "8593de3a-2093-4400-8c60-1c8369b5ea48"
      },
      "execution_count": 4,
      "outputs": [
        {
          "output_type": "stream",
          "name": "stdout",
          "text": [
            "我是誰\n",
            "我在哪裡\n"
          ]
        }
      ]
    },
    {
      "cell_type": "code",
      "source": [
        "scores = [30, 20, 40, 80]\n",
        "print(min(scores),\n",
        "   max(scores),\n",
        "   sum(scores),\n",
        "   len(scores))\n",
        "print(20 in scores)\n",
        "# key->value 查詢  查東西[key]\n",
        "print(scores[0])\n",
        "# print(scores[len(scores)-1])\n",
        "# 反向key: -4 -3 -2 -1\n",
        "print(scores[-1])\n",
        "# 取段 查東西[開始:結束(不包含)]\n",
        "# 1:3 1 2 3(X)\n",
        "print(scores[1:3])\n",
        "print(scores[1:-1])\n",
        "print(scores[:3])\n",
        "print(scores[1:])\n",
        "# 取段並且跳號 查東西[開始:結束:幾個一跳]\n",
        "# scores[2:11:3] [2] [5] [8] [11](X)\n",
        "print(scores[::2])\n",
        "print(scores[1::2])\n",
        "# 反向跳號: !!!開始要比結束右邊\n",
        "# scores[11:2:-3] [11] [8] [5] [2](x)\n",
        "print(scores[::-1])\n",
        "# !!!! remember: [0] [-1] [::-1]"
      ],
      "metadata": {
        "colab": {
          "base_uri": "https://localhost:8080/"
        },
        "id": "LmnLr2rS4ZgT",
        "outputId": "475b1a87-3e0e-4658-8655-6f5ac6a7ef64"
      },
      "execution_count": 16,
      "outputs": [
        {
          "output_type": "stream",
          "name": "stdout",
          "text": [
            "20 80 170 4\n",
            "True\n",
            "30\n",
            "80\n",
            "[20, 40]\n",
            "[20, 40]\n",
            "[30, 20, 40]\n",
            "[20, 40, 80]\n",
            "[30, 40]\n",
            "[20, 80]\n",
            "[80, 40, 20, 30]\n"
          ]
        }
      ]
    },
    {
      "cell_type": "markdown",
      "source": [
        "群集型態: list, set, dict, tuple"
      ],
      "metadata": {
        "id": "-75HQhrZCTY3"
      }
    },
    {
      "cell_type": "code",
      "source": [
        "scores = [30, 80, 70, 20, 10]\n",
        "# 1\n",
        "count = 0\n",
        "i = 0\n",
        "while i < len(scores):\n",
        "  # !!!! [i]: 不夠泛用 因為以後不是每種群集他的key都是0 1 2 3\n",
        "  s = scores[i]\n",
        "  if s >= 60:\n",
        "    count = count + 1\n",
        "  i = i + 1\n",
        "print(count)\n",
        "\n",
        "# 2: for 代號 in 群: 走過  保證把這群裡面的東西一個給你一次\n",
        "count = 0\n",
        "for s in scores:\n",
        "  if s >= 60:\n",
        "    count = count + 1\n",
        "print(count)"
      ],
      "metadata": {
        "colab": {
          "base_uri": "https://localhost:8080/"
        },
        "id": "bQvBuC_OBBzV",
        "outputId": "ab26c3d9-d7f1-482b-adeb-25a19d68cf40"
      },
      "execution_count": 18,
      "outputs": [
        {
          "output_type": "stream",
          "name": "stdout",
          "text": [
            "2\n",
            "2\n"
          ]
        }
      ]
    },
    {
      "cell_type": "code",
      "source": [
        "# 1\n",
        "total = 0\n",
        "i = 0\n",
        "while i < 10:\n",
        "  total = total + (i + 1)\n",
        "  i = i + 1\n",
        "print(total)\n",
        "\n",
        "# 2\n",
        "# range:\n",
        "# !!!!!!range(5): [0, 1, 2, 3, 4]\n",
        "# range(2, 5): [2, 3, 4]\n",
        "# range(2, 11, 3): [2, 5, 8]\n",
        "# for i in range(次)\n",
        "total = 0\n",
        "for i in range(10):\n",
        "  total = total + (i + 1)\n",
        "print(total)"
      ],
      "metadata": {
        "colab": {
          "base_uri": "https://localhost:8080/"
        },
        "id": "H1GdkaYlFZ-h",
        "outputId": "9ff72fe1-ef2e-4689-b0b8-d12537e17fb1"
      },
      "execution_count": 20,
      "outputs": [
        {
          "output_type": "stream",
          "name": "stdout",
          "text": [
            "55\n",
            "55\n"
          ]
        }
      ]
    },
    {
      "cell_type": "markdown",
      "source": [
        "迴圈SOP(remember):\n",
        "1. 走過一群集(list/str): for 名 in 群:\n",
        "2. 固定次數: for i in range(次):\n",
        "3. 其他條件: while True+break"
      ],
      "metadata": {
        "id": "yNyRzuJqHpOz"
      }
    },
    {
      "cell_type": "code",
      "source": [
        "import math\n",
        "math.isqrt(20241001)\n"
      ],
      "metadata": {
        "colab": {
          "base_uri": "https://localhost:8080/"
        },
        "id": "R_5WMwaAIR9j",
        "outputId": "9c3c491a-98d7-4e85-8942-82483cd7e874"
      },
      "execution_count": 24,
      "outputs": [
        {
          "output_type": "execute_result",
          "data": {
            "text/plain": [
              "4499"
            ]
          },
          "metadata": {},
          "execution_count": 24
        }
      ]
    },
    {
      "cell_type": "code",
      "source": [
        "count =  0\n",
        "start = 4500\n",
        "# while count < 5:\n",
        "for i in range(10):\n",
        "  # 平方\n",
        "  start_pow = start ** 2\n",
        "  # 檢查這個平方數是否是合理的日期\n",
        "  s = str(start_pow)\n",
        "  year = int(s[:4])\n",
        "  month = int(s[4:6])\n",
        "  day = int(s[6:])\n",
        "  print(year, month, day)\n",
        "  # 月份條件: 1~12\n",
        "  if 1 <= month <= 12:\n",
        "    # 日期條件: 我們2月都預設沒有閏月\n",
        "    day_limit = [31, 28, 31, 30, 31, 30, 31, 31, 30, 31, 30, 31]\n",
        "  # 往下一個數字檢查\n",
        "  start = start + 1"
      ],
      "metadata": {
        "colab": {
          "base_uri": "https://localhost:8080/"
        },
        "id": "nxHgIbn9JO-j",
        "outputId": "dff9671b-d025-409d-c254-52616fe768e5"
      },
      "execution_count": 26,
      "outputs": [
        {
          "output_type": "stream",
          "name": "stdout",
          "text": [
            "2025 00 00\n",
            "2025 90 01\n",
            "2026 80 04\n",
            "2027 70 09\n",
            "2028 60 16\n",
            "2029 50 25\n",
            "2030 40 36\n",
            "2031 30 49\n",
            "2032 20 64\n",
            "2033 10 81\n"
          ]
        }
      ]
    }
  ]
}