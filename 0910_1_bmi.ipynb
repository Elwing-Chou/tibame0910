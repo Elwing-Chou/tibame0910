{
  "nbformat": 4,
  "nbformat_minor": 0,
  "metadata": {
    "colab": {
      "provenance": [],
      "authorship_tag": "ABX9TyNs1hPiOxYdgjcs3kOVO4ax",
      "include_colab_link": true
    },
    "kernelspec": {
      "name": "python3",
      "display_name": "Python 3"
    },
    "language_info": {
      "name": "python"
    }
  },
  "cells": [
    {
      "cell_type": "markdown",
      "metadata": {
        "id": "view-in-github",
        "colab_type": "text"
      },
      "source": [
        "<a href=\"https://colab.research.google.com/github/Elwing-Chou/tibame0910/blob/main/0910_1_bmi.ipynb\" target=\"_parent\"><img src=\"https://colab.research.google.com/assets/colab-badge.svg\" alt=\"Open In Colab\"/></a>"
      ]
    },
    {
      "cell_type": "markdown",
      "source": [
        "1. 註解 # sss\n",
        "2. 現代程式重點: 可讀性\n",
        "3. 影響可讀性的一個要素: 排版(coding style)\n",
        "PEP 8 coding style\n",
        "4. 功能: print(參數) xxxx()\n",
        "5. 絕對不重複!!!!\n",
        "6. =: 文字符號 = 值\n",
        "   i : 5 == 3 + 2  左右是否相等?\n",
        "   ii: x = 2 取代\n",
        "   可以有數字 但不能數字開頭 x123(ok) 123x(x)\n",
        "7. 型態(type):\n",
        "   i. 數字型態: a. 整數(int) 2 b. 小數(float) 2.0\n",
        "   ii. 字串型態(str): \"abc\" \"0912345678\"\n",
        "   2 + 3(ok)  \"ab\" + \"cd\"(ok) \"ab\" + 2(x)\n",
        "8. 型態轉換:\n",
        "   int() float() str()\n",
        "9. 名稱 = input(字串)\n",
        "   功能 i. 參數  ii. 回傳值: 回答的\"新的\"答案(check type)\n",
        "10. 如果...否則\n",
        "    (> < >= <= ==)\n",
        "if bmi > 25:\n",
        "\tprint()\n",
        "\tprint()\n",
        "else:\n",
        "\tprint()\n",
        "\n",
        "強制排版: 縮排(2個符號 :  TAB)\n",
        "Elwing說:\n",
        "\txxxx"
      ],
      "metadata": {
        "id": "-dRKIw_bN29T"
      }
    },
    {
      "cell_type": "code",
      "execution_count": 28,
      "metadata": {
        "colab": {
          "base_uri": "https://localhost:8080/"
        },
        "id": "Ub8RPgok0QU0",
        "outputId": "a25dfcc6-5a60-4b7c-8adb-3369075235c9"
      },
      "outputs": [
        {
          "output_type": "stream",
          "name": "stdout",
          "text": [
            "請輸入體重:60\n",
            "請輸入身高:175\n",
            "你的體重是:60.0\n",
            "你的身高是:175.0\n",
            "bmi是:19.591836734693878\n",
            "正常\n"
          ]
        }
      ],
      "source": [
        "# bmi: weight(kg) / height(m) ^ 2\n",
        "weight = float(input(\"請輸入體重:\"))\n",
        "height = float(input(\"請輸入身高:\"))\n",
        "bmi = weight / (height / 100) ** 2\n",
        "\n",
        "print(\"你的體重是:\" + str(weight))\n",
        "print(\"你的身高是:\" + str(height))\n",
        "print(\"bmi是:\" + str(bmi))\n",
        "\n",
        "if bmi > 25:\n",
        "  print(\"過重\")\n",
        "  print(\"要注意一下了\")\n",
        "else:\n",
        "  print(\"正常\")"
      ]
    },
    {
      "cell_type": "code",
      "source": [
        "a = 4.6\n",
        "b = int(a)\n",
        "print(a)\n",
        "print(b)"
      ],
      "metadata": {
        "colab": {
          "base_uri": "https://localhost:8080/"
        },
        "id": "weGebNY_JCsI",
        "outputId": "9855bd01-9082-407d-e438-d38bb7b33c5a"
      },
      "execution_count": 21,
      "outputs": [
        {
          "output_type": "stream",
          "name": "stdout",
          "text": [
            "4.6\n",
            "4\n"
          ]
        }
      ]
    }
  ]
}