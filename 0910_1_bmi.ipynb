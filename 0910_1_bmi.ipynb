{
  "nbformat": 4,
  "nbformat_minor": 0,
  "metadata": {
    "colab": {
      "provenance": [],
      "authorship_tag": "ABX9TyMU3Zls95Mxxydow325K8Gb",
      "include_colab_link": true
    },
    "kernelspec": {
      "name": "python3",
      "display_name": "Python 3"
    },
    "language_info": {
      "name": "python"
    }
  },
  "cells": [
    {
      "cell_type": "markdown",
      "metadata": {
        "id": "view-in-github",
        "colab_type": "text"
      },
      "source": [
        "<a href=\"https://colab.research.google.com/github/Elwing-Chou/tibame0910/blob/main/0910_1_bmi.ipynb\" target=\"_parent\"><img src=\"https://colab.research.google.com/assets/colab-badge.svg\" alt=\"Open In Colab\"/></a>"
      ]
    },
    {
      "cell_type": "code",
      "execution_count": 17,
      "metadata": {
        "colab": {
          "base_uri": "https://localhost:8080/"
        },
        "id": "Ub8RPgok0QU0",
        "outputId": "d78964c7-000a-4b24-a019-139813428d55"
      },
      "outputs": [
        {
          "output_type": "stream",
          "name": "stdout",
          "text": [
            "你的體重是:72\n",
            "你的身高是:175\n",
            "bmi是:23.510204081632654\n"
          ]
        }
      ],
      "source": [
        "# bmi: weight(kg) / height(m) ^ 2\n",
        "weight = 72\n",
        "height = 175\n",
        "bmi = weight / (height / 100) ** 2\n",
        "print(\"你的體重是:\" + str(weight))\n",
        "print(\"你的身高是:\" + str(height))\n",
        "print(\"bmi是:\" + str(bmi))"
      ]
    }
  ]
}