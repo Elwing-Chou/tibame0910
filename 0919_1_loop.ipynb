{
  "nbformat": 4,
  "nbformat_minor": 0,
  "metadata": {
    "colab": {
      "provenance": [],
      "authorship_tag": "ABX9TyM46pBS9BGASEsrqZM34/EF",
      "include_colab_link": true
    },
    "kernelspec": {
      "name": "python3",
      "display_name": "Python 3"
    },
    "language_info": {
      "name": "python"
    }
  },
  "cells": [
    {
      "cell_type": "markdown",
      "metadata": {
        "id": "view-in-github",
        "colab_type": "text"
      },
      "source": [
        "<a href=\"https://colab.research.google.com/github/Elwing-Chou/tibame0910/blob/main/0919_1_loop.ipynb\" target=\"_parent\"><img src=\"https://colab.research.google.com/assets/colab-badge.svg\" alt=\"Open In Colab\"/></a>"
      ]
    },
    {
      "cell_type": "code",
      "execution_count": null,
      "metadata": {
        "id": "74dDkrfH9JfX"
      },
      "outputs": [],
      "source": [
        "i = 0\n",
        "while i < 10:\n",
        "  # i = 0....9\n",
        "  print(i+1,\n",
        "     50-i,\n",
        "     3*i+5,\n",
        "     70-8*i)\n",
        "  i = i + 1"
      ]
    },
    {
      "cell_type": "markdown",
      "source": [
        "*\n",
        "\n",
        "**\n",
        "\n",
        "***'\n",
        "\n",
        "****"
      ],
      "metadata": {
        "id": "D0rGpScZAJIl"
      }
    },
    {
      "cell_type": "code",
      "source": [
        "i = 0\n",
        "while i < 5:\n",
        "  print(\"o\" * (i + 1))\n",
        "  i = i + 1"
      ],
      "metadata": {
        "colab": {
          "base_uri": "https://localhost:8080/"
        },
        "id": "bvt5uxyhASkd",
        "outputId": "6a32bd1b-708c-4445-b731-ee6e66cf0cb2"
      },
      "execution_count": 4,
      "outputs": [
        {
          "output_type": "stream",
          "name": "stdout",
          "text": [
            "o\n",
            "oo\n",
            "ooo\n",
            "oooo\n",
            "ooooo\n"
          ]
        }
      ]
    }
  ]
}