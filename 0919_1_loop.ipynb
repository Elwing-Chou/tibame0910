{
  "nbformat": 4,
  "nbformat_minor": 0,
  "metadata": {
    "colab": {
      "provenance": [],
      "authorship_tag": "ABX9TyOP2q8tzlRCqoGrqT60eFbq",
      "include_colab_link": true
    },
    "kernelspec": {
      "name": "python3",
      "display_name": "Python 3"
    },
    "language_info": {
      "name": "python"
    }
  },
  "cells": [
    {
      "cell_type": "markdown",
      "metadata": {
        "id": "view-in-github",
        "colab_type": "text"
      },
      "source": [
        "<a href=\"https://colab.research.google.com/github/Elwing-Chou/tibame0910/blob/main/0919_1_loop.ipynb\" target=\"_parent\"><img src=\"https://colab.research.google.com/assets/colab-badge.svg\" alt=\"Open In Colab\"/></a>"
      ]
    },
    {
      "cell_type": "code",
      "execution_count": null,
      "metadata": {
        "id": "74dDkrfH9JfX"
      },
      "outputs": [],
      "source": [
        "i = 0\n",
        "while i < 10:\n",
        "  # i = 0....9\n",
        "  print(i+1,\n",
        "     50-i,\n",
        "     3*i+5,\n",
        "     70-8*i)\n",
        "  i = i + 1"
      ]
    },
    {
      "cell_type": "markdown",
      "source": [
        "*\n",
        "\n",
        "**\n",
        "\n",
        "***'\n",
        "\n",
        "****"
      ],
      "metadata": {
        "id": "D0rGpScZAJIl"
      }
    },
    {
      "cell_type": "code",
      "source": [
        "i = 0\n",
        "while i < 5:\n",
        "  print(\"o\" * (i + 1))\n",
        "  i = i + 1"
      ],
      "metadata": {
        "colab": {
          "base_uri": "https://localhost:8080/"
        },
        "id": "bvt5uxyhASkd",
        "outputId": "cefbf940-827b-4d5d-f2d3-04d55a1db90e"
      },
      "execution_count": 7,
      "outputs": [
        {
          "output_type": "stream",
          "name": "stdout",
          "text": [
            "o\n",
            "oo\n",
            "ooo\n",
            "oooo\n",
            "ooooo\n"
          ]
        }
      ]
    },
    {
      "cell_type": "code",
      "source": [
        "left, right = \" \", \"o\"\n",
        "layer = 5\n",
        "i = 0\n",
        "while i < layer:\n",
        "  lcount = i\n",
        "  rcount = layer - i\n",
        "  print(left * lcount +\n",
        "     right * rcount)\n",
        "  i = i + 1"
      ],
      "metadata": {
        "colab": {
          "base_uri": "https://localhost:8080/"
        },
        "id": "epzhuAQtDsVo",
        "outputId": "ccfbc480-0a7d-4f54-9316-77fb490ee63b"
      },
      "execution_count": 8,
      "outputs": [
        {
          "output_type": "stream",
          "name": "stdout",
          "text": [
            "ooooo\n",
            " oooo\n",
            "  ooo\n",
            "   oo\n",
            "    o\n"
          ]
        }
      ]
    },
    {
      "cell_type": "code",
      "source": [
        "left, mid, right = \" \", \"o\", \" \"\n",
        "layer = 10\n",
        "i = 0\n",
        "while i < layer:\n",
        "  lcount = i\n",
        "  mcount = (2 * layer - 1) - 2 * i\n",
        "  rcount = i\n",
        "  print(left * lcount +\n",
        "     mid * mcount +\n",
        "     right * rcount)\n",
        "  i = i + 1"
      ],
      "metadata": {
        "colab": {
          "base_uri": "https://localhost:8080/"
        },
        "id": "FCjaygkjNWRb",
        "outputId": "cfe6439b-0a86-401c-a666-b344e9f49d62"
      },
      "execution_count": 12,
      "outputs": [
        {
          "output_type": "stream",
          "name": "stdout",
          "text": [
            "ooooooooooooooooooo\n",
            " ooooooooooooooooo \n",
            "  ooooooooooooooo  \n",
            "   ooooooooooooo   \n",
            "    ooooooooooo    \n",
            "     ooooooooo     \n",
            "      ooooooo      \n",
            "       ooooo       \n",
            "        ooo        \n",
            "         o         \n"
          ]
        }
      ]
    },
    {
      "cell_type": "code",
      "source": [],
      "metadata": {
        "id": "PMhYZLEeNn2-"
      },
      "execution_count": null,
      "outputs": []
    }
  ]
}