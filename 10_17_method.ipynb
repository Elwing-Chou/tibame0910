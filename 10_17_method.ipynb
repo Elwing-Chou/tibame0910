{
  "nbformat": 4,
  "nbformat_minor": 0,
  "metadata": {
    "colab": {
      "provenance": [],
      "authorship_tag": "ABX9TyN7/7N7f+avPxgMSW8s3avX",
      "include_colab_link": true
    },
    "kernelspec": {
      "name": "python3",
      "display_name": "Python 3"
    },
    "language_info": {
      "name": "python"
    }
  },
  "cells": [
    {
      "cell_type": "markdown",
      "metadata": {
        "id": "view-in-github",
        "colab_type": "text"
      },
      "source": [
        "<a href=\"https://colab.research.google.com/github/Elwing-Chou/tibame0910/blob/main/10_17_method.ipynb\" target=\"_parent\"><img src=\"https://colab.research.google.com/assets/colab-badge.svg\" alt=\"Open In Colab\"/></a>"
      ]
    },
    {
      "cell_type": "markdown",
      "source": [
        "不是去改變, 而是利用舊的回傳薪的"
      ],
      "metadata": {
        "id": "jXUDBl2jLgPd"
      }
    },
    {
      "cell_type": "code",
      "execution_count": 3,
      "metadata": {
        "colab": {
          "base_uri": "https://localhost:8080/"
        },
        "id": "1cTIwp0_JvRY",
        "outputId": "5172e34b-0f1c-4034-8b2c-1a9547cee23e"
      },
      "outputs": [
        {
          "output_type": "stream",
          "name": "stdout",
          "text": [
            "hellohellohellohellohello\n",
            "hAlohAlohAlohellohello\n"
          ]
        }
      ],
      "source": [
        "s = \"hello\" * 5\n",
        "b = s.replace(\"el\", \"A\", 3)\n",
        "print(s)\n",
        "print(b)"
      ]
    },
    {
      "cell_type": "code",
      "source": [
        "print(\"   abc   \".strip())\n",
        "print(\"abcabc\".replace(\"abc\", \"XYZ\"))\n",
        "print(\"2024/10/17\".split(\"/\"))\n",
        "print(\"::\".join([\"10\", \"17\", \"59\"]))"
      ],
      "metadata": {
        "colab": {
          "base_uri": "https://localhost:8080/"
        },
        "id": "MTIjVRRSL2eQ",
        "outputId": "550a10d6-af2e-4579-f86c-fc1210059aaf"
      },
      "execution_count": 8,
      "outputs": [
        {
          "output_type": "stream",
          "name": "stdout",
          "text": [
            "abc\n",
            "XYZXYZ\n",
            "['2024', '10', '17']\n",
            "10::17::59\n"
          ]
        }
      ]
    },
    {
      "cell_type": "markdown",
      "source": [
        "list專屬功能\n",
        "\n",
        "https://www.w3schools.com/python/python_lists_methods.asp"
      ],
      "metadata": {
        "id": "kzW0GZZENn5l"
      }
    },
    {
      "cell_type": "markdown",
      "source": [
        "1. 以前跟你說: 沒有=值就不會改\n",
        "  -> list method直接改\n",
        "\n",
        "2. 以前跟你說: 有些功能沒有回傳值(e.g. print)\n",
        "  -> 任何功能都有回傳值, 只是有些功能回傳None\n",
        "\n",
        "\n",
        "!!! 基礎型態: 數字/字串/布林/無"
      ],
      "metadata": {
        "id": "2Twgjg9JOy00"
      }
    },
    {
      "cell_type": "code",
      "source": [
        "li = [5, 3, 2]\n",
        "b = li.append(20)\n",
        "print(li)\n",
        "print(b)"
      ],
      "metadata": {
        "colab": {
          "base_uri": "https://localhost:8080/"
        },
        "id": "e1H8ituiN0JC",
        "outputId": "4fc7bed9-0cc1-4df2-b18e-288609a26c86"
      },
      "execution_count": 9,
      "outputs": [
        {
          "output_type": "stream",
          "name": "stdout",
          "text": [
            "[5, 3, 2, 20]\n",
            "None\n"
          ]
        }
      ]
    },
    {
      "cell_type": "code",
      "source": [
        "# None\n",
        "print(print(print(30)))"
      ],
      "metadata": {
        "colab": {
          "base_uri": "https://localhost:8080/"
        },
        "id": "4Yv3chPXPyvw",
        "outputId": "447276f4-a672-480c-e246-83d04449f4a3"
      },
      "execution_count": 11,
      "outputs": [
        {
          "output_type": "stream",
          "name": "stdout",
          "text": [
            "30\n",
            "None\n",
            "None\n"
          ]
        }
      ]
    }
  ]
}