{
  "nbformat": 4,
  "nbformat_minor": 0,
  "metadata": {
    "colab": {
      "provenance": [],
      "authorship_tag": "ABX9TyPszPGm51qfKvCo+to4cSjt",
      "include_colab_link": true
    },
    "kernelspec": {
      "name": "python3",
      "display_name": "Python 3"
    },
    "language_info": {
      "name": "python"
    }
  },
  "cells": [
    {
      "cell_type": "markdown",
      "metadata": {
        "id": "view-in-github",
        "colab_type": "text"
      },
      "source": [
        "<a href=\"https://colab.research.google.com/github/Elwing-Chou/tibame0910/blob/main/10_17_method.ipynb\" target=\"_parent\"><img src=\"https://colab.research.google.com/assets/colab-badge.svg\" alt=\"Open In Colab\"/></a>"
      ]
    },
    {
      "cell_type": "markdown",
      "source": [
        "不是去改變, 而是利用舊的回傳薪的"
      ],
      "metadata": {
        "id": "jXUDBl2jLgPd"
      }
    },
    {
      "cell_type": "code",
      "execution_count": 3,
      "metadata": {
        "colab": {
          "base_uri": "https://localhost:8080/"
        },
        "id": "1cTIwp0_JvRY",
        "outputId": "5172e34b-0f1c-4034-8b2c-1a9547cee23e"
      },
      "outputs": [
        {
          "output_type": "stream",
          "name": "stdout",
          "text": [
            "hellohellohellohellohello\n",
            "hAlohAlohAlohellohello\n"
          ]
        }
      ],
      "source": [
        "s = \"hello\" * 5\n",
        "b = s.replace(\"el\", \"A\", 3)\n",
        "print(s)\n",
        "print(b)"
      ]
    },
    {
      "cell_type": "code",
      "source": [
        "print(\"   abc   \".strip())\n",
        "print(\"abcabc\".replace(\"abc\", \"XYZ\"))\n",
        "print(\"2024/10/17\".split(\"/\"))\n",
        "print(\"::\".join([\"10\", \"17\", \"59\"]))"
      ],
      "metadata": {
        "colab": {
          "base_uri": "https://localhost:8080/"
        },
        "id": "MTIjVRRSL2eQ",
        "outputId": "550a10d6-af2e-4579-f86c-fc1210059aaf"
      },
      "execution_count": 8,
      "outputs": [
        {
          "output_type": "stream",
          "name": "stdout",
          "text": [
            "abc\n",
            "XYZXYZ\n",
            "['2024', '10', '17']\n",
            "10::17::59\n"
          ]
        }
      ]
    }
  ]
}