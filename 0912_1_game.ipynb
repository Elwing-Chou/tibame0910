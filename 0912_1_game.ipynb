{
  "nbformat": 4,
  "nbformat_minor": 0,
  "metadata": {
    "colab": {
      "provenance": [],
      "authorship_tag": "ABX9TyNjhGJBuuIaF4bBeGnwQVfa",
      "include_colab_link": true
    },
    "kernelspec": {
      "name": "python3",
      "display_name": "Python 3"
    },
    "language_info": {
      "name": "python"
    }
  },
  "cells": [
    {
      "cell_type": "markdown",
      "metadata": {
        "id": "view-in-github",
        "colab_type": "text"
      },
      "source": [
        "<a href=\"https://colab.research.google.com/github/Elwing-Chou/tibame0910/blob/main/0912_1_game.ipynb\" target=\"_parent\"><img src=\"https://colab.research.google.com/assets/colab-badge.svg\" alt=\"Open In Colab\"/></a>"
      ]
    },
    {
      "cell_type": "code",
      "execution_count": 15,
      "metadata": {
        "colab": {
          "base_uri": "https://localhost:8080/"
        },
        "id": "FnaQkXAb6Dd1",
        "outputId": "e1d30d66-22b8-42bc-8044-5755574de3fb"
      },
      "outputs": [
        {
          "output_type": "stream",
          "name": "stdout",
          "text": [
            "請輸入 0.剪刀 1.石頭 2.布:0\n",
            "我出的: 剪刀\n",
            "電腦的: 布\n",
            "WIN\n",
            "!!!每次都會印\n"
          ]
        }
      ],
      "source": [
        "import random\n",
        "\n",
        "my = int(input(\"請輸入 0.剪刀 1.石頭 2.布:\"))\n",
        "# 隨機一個0-2的整數\n",
        "com = random.randint(0, 2)\n",
        "# 我準備一個轉換清單 0: 剪刀\n",
        "trans = [\"剪刀\", \"石頭\", \"布\"]\n",
        "print(\"我出的:\", trans[my])\n",
        "print(\"電腦的:\", trans[com])\n",
        "\n",
        "# 如果我出的是電腦的下一個, win\n",
        "if my == (com + 1) % 3:\n",
        "  print(\"WIN\")\n",
        "elif com == (my + 1) % 3:\n",
        "  print(\"LOSE\")\n",
        "else:\n",
        "  print(\"EVEN\")\n",
        "print(\"!!!每次都會印\")"
      ]
    },
    {
      "cell_type": "code",
      "source": [
        "import random\n",
        "\n",
        "# my = int(input(\"請輸入 0-5:\"))\n",
        "# com = random.randint(0, 5)\n",
        "my, com = 3, 5\n",
        "trans = [\"剪刀(0)\", \"石頭(0)\", \"布(0)\",\n",
        "     \"剪刀(1)\", \"石頭(1)\", \"布(1)\"]\n",
        "print(\"我出的:\", trans[my])\n",
        "print(\"電腦的:\", trans[com])\n",
        "\n",
        "my_g = my // 3\n",
        "com_g = com // 3\n",
        "# 先檢查是否同一組\n",
        "if my_g == com_g:\n",
        "  # 同為第一組(0 1 2)\n",
        "  # 同為第二組(3 4 5) -> (0, 1, 2)\n",
        "  print(\"同組\")\n",
        "  # (3, 4, 5) -> (0, 1, 2)\n",
        "  my2, com2 = my % 3, com % 3\n",
        "  if my2 == (com2 + 1) % 3:\n",
        "    print(\"WIN\")\n",
        "  elif com2 == (my2 + 1) % 3:\n",
        "    print(\"LOSE\")\n",
        "  else:\n",
        "    print(\"EVEN\")\n",
        "else:\n",
        "  print(\"EVEN(不同組)\")"
      ],
      "metadata": {
        "colab": {
          "base_uri": "https://localhost:8080/"
        },
        "id": "F5DS_LRGTG-Q",
        "outputId": "45ec55e9-c289-4240-ae46-e2e0ee90c192"
      },
      "execution_count": 22,
      "outputs": [
        {
          "output_type": "stream",
          "name": "stdout",
          "text": [
            "我出的: 剪刀(1)\n",
            "電腦的: 布(1)\n",
            "同組\n",
            "WIN\n"
          ]
        }
      ]
    },
    {
      "cell_type": "code",
      "source": [
        "# 查詢操作\n",
        "s = \"apple\"\n",
        "print(s[0])"
      ],
      "metadata": {
        "colab": {
          "base_uri": "https://localhost:8080/"
        },
        "id": "AR0KfoqmEe_w",
        "outputId": "f228b2f6-58be-4814-d97c-d31337fdd86d"
      },
      "execution_count": 10,
      "outputs": [
        {
          "output_type": "stream",
          "name": "stdout",
          "text": [
            "a\n"
          ]
        }
      ]
    },
    {
      "cell_type": "code",
      "source": [
        "a = 3\n",
        "b = a + 2\n",
        "print(a)\n",
        "print(b)"
      ],
      "metadata": {
        "colab": {
          "base_uri": "https://localhost:8080/"
        },
        "id": "vC1_7gpSc9cb",
        "outputId": "42aa6488-2d9b-4e5a-cc31-df773750cd6b"
      },
      "execution_count": 24,
      "outputs": [
        {
          "output_type": "stream",
          "name": "stdout",
          "text": [
            "3\n",
            "5\n"
          ]
        }
      ]
    },
    {
      "cell_type": "markdown",
      "source": [
        "1. 核心邏輯: 前後相鄰關係\n",
        "2. 細節: 剪刀石頭步是什麼型態\n",
        "   ->大小關係 必定是整數(0 1 2...)\n",
        "3. 另外一隻.py  ->  引用  import .py名字 -> 照抄\n",
        "   import random\n",
        "   random.(的)randint(0, 2)\n",
        "   !! 功能除了內建功能以外都要先import\n",
        "4. 清單(list)型態\n",
        "   trans = [\"剪刀\", \"xx\", \"xx\"] (key:0 1 2)\n",
        "   key-value對應: 查詢  查詢東西[key]\n",
        "5. 如果...否則如果...否則 (篩選效果單選題)\n",
        "   if bmi > 25:\n",
        "\txxx\n",
        "   elif bmi > 18:\n",
        "\txxx\n",
        "   else:\n",
        "        xxx\n",
        "\n",
        "6. 迴圈(重複): 準備計數器\n",
        "a. 初始化: i = 0\n",
        "b. 條件: i < 10\n",
        "c. 增加: i = i + 1\n",
        "\n",
        "i = 0\n",
        "while i < 10:\n",
        "\tprint(i)\n",
        "\ti = i + 1\n",
        "\n",
        "好習慣: 這三行永遠不換!!!  i. 次數一眼看出 ii. i=0...次-1\n",
        "? 1...10: print(i+1)\n",
        "? 10...1: print(10-i)\n",
        "? 1 3 5: print(2*i+1)"
      ],
      "metadata": {
        "id": "ntBGPJ-QhLkQ"
      }
    }
  ]
}