{
  "nbformat": 4,
  "nbformat_minor": 0,
  "metadata": {
    "colab": {
      "provenance": [],
      "authorship_tag": "ABX9TyMzDn81txG1BDaBg/+fGEKP",
      "include_colab_link": true
    },
    "kernelspec": {
      "name": "python3",
      "display_name": "Python 3"
    },
    "language_info": {
      "name": "python"
    }
  },
  "cells": [
    {
      "cell_type": "markdown",
      "metadata": {
        "id": "view-in-github",
        "colab_type": "text"
      },
      "source": [
        "<a href=\"https://colab.research.google.com/github/Elwing-Chou/tibame0910/blob/main/0919_2_loop.ipynb\" target=\"_parent\"><img src=\"https://colab.research.google.com/assets/colab-badge.svg\" alt=\"Open In Colab\"/></a>"
      ]
    },
    {
      "cell_type": "code",
      "execution_count": null,
      "metadata": {
        "id": "dqHnIJa-PSAa"
      },
      "outputs": [],
      "source": [
        "total = 0\n",
        "i = 0\n",
        "while i < 10:\n",
        "  total = total + (i + 1)\n",
        "  print(total)\n",
        "  i = i + 1"
      ]
    },
    {
      "cell_type": "code",
      "source": [
        "a, b = 2, 7\n",
        "result = \"0.\"\n",
        "i = 0\n",
        "while i < 10:\n",
        "  # 2 -> 20\n",
        "  a10 = a * 10\n",
        "  # 20 // 7\n",
        "  result = result + str(a10 // b)\n",
        "  print(result)\n",
        "  # 20 % 7\n",
        "  a = a10 % b\n",
        "  i = i + 1"
      ],
      "metadata": {
        "colab": {
          "base_uri": "https://localhost:8080/"
        },
        "id": "dc1l4imPR__p",
        "outputId": "5abfd9de-8b8a-4d93-ebef-31ea5d81fb36"
      },
      "execution_count": 5,
      "outputs": [
        {
          "output_type": "stream",
          "name": "stdout",
          "text": [
            "0.4\n",
            "0.40\n",
            "0.400\n",
            "0.4000\n",
            "0.40000\n",
            "0.400000\n",
            "0.4000000\n",
            "0.40000000\n",
            "0.400000000\n",
            "0.4000000000\n"
          ]
        }
      ]
    },
    {
      "cell_type": "code",
      "source": [
        "ord(\"我\")"
      ],
      "metadata": {
        "colab": {
          "base_uri": "https://localhost:8080/"
        },
        "id": "fRqh8kOJYGTq",
        "outputId": "92ce3636-bfa1-451c-8d38-9472b279d97b"
      },
      "execution_count": 9,
      "outputs": [
        {
          "output_type": "execute_result",
          "data": {
            "text/plain": [
              "25105"
            ]
          },
          "metadata": {},
          "execution_count": 9
        }
      ]
    },
    {
      "cell_type": "code",
      "source": [
        "# ASCII\n",
        "s = \"我很愛吃Apple\"\n",
        "count = 0\n",
        "i = 0\n",
        "while i < len(s):\n",
        "  n = ord(s[i])\n",
        "  if ord(\"A\") <= n <= ord(\"Z\"):\n",
        "    count = count + 1\n",
        "  elif ord(\"a\") <= n <= ord(\"z\"):\n",
        "    count = count + 1\n",
        "  else:\n",
        "    print(s[i], \"不是英文\")\n",
        "  i = i + 1\n",
        "print(count)"
      ],
      "metadata": {
        "colab": {
          "base_uri": "https://localhost:8080/"
        },
        "id": "_mfLAEvXWIVM",
        "outputId": "a607f389-d92f-404e-c90f-2f7aeb1a9d4f"
      },
      "execution_count": 15,
      "outputs": [
        {
          "output_type": "stream",
          "name": "stdout",
          "text": [
            "我 不是英文\n",
            "很 不是英文\n",
            "愛 不是英文\n",
            "吃 不是英文\n",
            "5\n"
          ]
        }
      ]
    },
    {
      "cell_type": "code",
      "source": [
        "print(ord(\"z\"))\n",
        "print(chr(122))"
      ],
      "metadata": {
        "colab": {
          "base_uri": "https://localhost:8080/"
        },
        "id": "YkJznPZFij1Z",
        "outputId": "727d98f2-dde0-453e-f89e-0a06dc703bac"
      },
      "execution_count": 18,
      "outputs": [
        {
          "output_type": "stream",
          "name": "stdout",
          "text": [
            "122\n",
            "z\n"
          ]
        }
      ]
    },
    {
      "cell_type": "code",
      "source": [
        "# s只有小寫\n",
        "s = \"applez\"\n",
        "p = 2\n",
        "# crrngb\n",
        "result = \"\"\n",
        "\n",
        "i = 0\n",
        "while i < len(s):\n",
        "  # 轉成編碼ord -> 97-122\n",
        "  # 往後位移p個, 循環回去, 換成的數字(97-122)\n",
        "  # 把轉好的數字用chr轉成字母放到答案裡\n",
        "  i = i + 1"
      ],
      "metadata": {
        "id": "Uwfoi9HShxZL"
      },
      "execution_count": null,
      "outputs": []
    }
  ]
}