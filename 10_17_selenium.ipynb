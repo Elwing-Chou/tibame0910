{
  "nbformat": 4,
  "nbformat_minor": 0,
  "metadata": {
    "colab": {
      "provenance": [],
      "authorship_tag": "ABX9TyM1vB1gMlx47B2MiOAEjEku",
      "include_colab_link": true
    },
    "kernelspec": {
      "name": "python3",
      "display_name": "Python 3"
    },
    "language_info": {
      "name": "python"
    }
  },
  "cells": [
    {
      "cell_type": "markdown",
      "metadata": {
        "id": "view-in-github",
        "colab_type": "text"
      },
      "source": [
        "<a href=\"https://colab.research.google.com/github/Elwing-Chou/tibame0910/blob/main/10_17_selenium.ipynb\" target=\"_parent\"><img src=\"https://colab.research.google.com/assets/colab-badge.svg\" alt=\"Open In Colab\"/></a>"
      ]
    },
    {
      "cell_type": "markdown",
      "source": [
        "selenium"
      ],
      "metadata": {
        "id": "b36wR6pNtGLj"
      }
    },
    {
      "cell_type": "code",
      "execution_count": null,
      "metadata": {
        "id": "QdJzXLv8qcEt"
      },
      "outputs": [],
      "source": [
        "# 1. selenium 2. webdriver-manager\n",
        "import time\n",
        "from selenium.webdriver.chrome.service import Service\n",
        "from webdriver_manager.chrome import ChromeDriverManager\n",
        "from selenium import webdriver\n",
        "from selenium.webdriver.common.by import By\n",
        "from selenium.webdriver.common.keys import Keys\n",
        "\n",
        "# 如果不做設置, chrome視窗有可能會自動關閉\n",
        "options = webdriver.ChromeOptions()\n",
        "options.add_experimental_option(\"detach\", True)\n",
        "\n",
        "driver = webdriver.Chrome(options=options,\n",
        "                          service=Service(ChromeDriverManager().install()))\n",
        "\n",
        "driver.get(\"https://www.google.com\")\n",
        "driver.maximize_window()\n",
        "\n",
        "# find/find_all -> find_element/find_elements\n",
        "element = driver.find_element(By.CLASS_NAME, \"gLFyf\")\n",
        "# click()/send_keys()\n",
        "element.send_keys(\"Aimer\")\n",
        "element.send_keys(Keys.ENTER)\n",
        "\n",
        "time.sleep(1)\n",
        "results = driver.find_elements(By.CLASS_NAME, \"yuRUbf\")\n",
        "for r in results:\n",
        "    link = r.find_element(By.TAG_NAME, \"a\")\n",
        "    # html內容: .text -> .text\n",
        "    # 屬性: [\"href\"] -> get_attribute(\"href')\n",
        "    print(link.text)\n",
        "    print(link.get_attribute(\"href\"))\n",
        "    print(\"-\" * 30)\n",
        "\n",
        "time.sleep(3)\n",
        "driver.close()\n"
      ]
    },
    {
      "cell_type": "markdown",
      "source": [
        "FB維持登入"
      ],
      "metadata": {
        "id": "3Pr1tUcvyP7n"
      }
    },
    {
      "cell_type": "code",
      "source": [
        "# 1. selenium 2. webdriver-manager\n",
        "import time\n",
        "from selenium.webdriver.chrome.service import Service\n",
        "from webdriver_manager.chrome import ChromeDriverManager\n",
        "from selenium import webdriver\n",
        "from selenium.webdriver.common.by import By\n",
        "from selenium.webdriver.common.keys import Keys\n",
        "\n",
        "# 如果不做設置, chrome視窗有可能會自動關閉\n",
        "options = webdriver.ChromeOptions()\n",
        "options.add_experimental_option(\"detach\", True)\n",
        "\n",
        "\n",
        "c = \"你要從你的登入那邊去拿cookie\"\n",
        "driver = webdriver.Chrome(options=options,\n",
        "                          service=Service(ChromeDriverManager().install()))\n",
        "\n",
        "\n",
        "driver.get(\"https://www.facebook.com\")\n",
        "driver.maximize_window()\n",
        "for line in c.split(\";\"):\n",
        "    k, v = line.split(\"=\")\n",
        "    k, v = k.strip(), v.strip()\n",
        "    driver.add_cookie({\"name\":k, \"value\":v})\n",
        "driver.get(\"https://www.facebook.com\")"
      ],
      "metadata": {
        "id": "XhAZCnsnyR8o"
      },
      "execution_count": null,
      "outputs": []
    },
    {
      "cell_type": "markdown",
      "source": [
        "小恐龍跳(extra)"
      ],
      "metadata": {
        "id": "vZRuoNeLy_zP"
      }
    },
    {
      "cell_type": "code",
      "source": [
        "# PILLow, numpy\n",
        "import base64\n",
        "import time\n",
        "import numpy as np\n",
        "import os\n",
        "\n",
        "# 拿到目前的圖片存在這裡\n",
        "dn = \"record\"\n",
        "if not os.path.exists(dn):\n",
        "    os.makedirs(dn)\n",
        "\n",
        "from PIL import Image\n",
        "from selenium.webdriver.common.by import By\n",
        "from selenium.webdriver.common.keys import Keys\n",
        "from selenium.webdriver.common.action_chains import ActionChains\n",
        "from PIL import Image\n",
        "from selenium.webdriver.chrome.service import Service\n",
        "from webdriver_manager.chrome import ChromeDriverManager\n",
        "from selenium import webdriver\n",
        "\n",
        "# 如果不做設置, chrome視窗有可能會自動關閉\n",
        "options = webdriver.ChromeOptions()\n",
        "options.add_experimental_option(\"detach\", True)\n",
        "\n",
        "driver = webdriver.Chrome(options=options,\n",
        "                          service=Service(ChromeDriverManager().install()))\n",
        "\n",
        "# 命令瀏覽器瀏覽這個網站\n",
        "driver.get(\"https://chromedino.com/\")\n",
        "# 把視窗最大化\n",
        "driver.maximize_window()\n",
        "\n",
        "# 休息三秒等待網頁讀完\n",
        "time.sleep(3)\n",
        "# F12->方塊滑鼠會找到小恐龍區塊叫做canvas\n",
        "canvas = driver.find_element(By.TAG_NAME, \"canvas\")\n",
        "\n",
        "# 送出第一個空白鍵(才會開始遊戲)\n",
        "actions = ActionChains(driver)\n",
        "actions.send_keys(Keys.SPACE)\n",
        "actions.perform()\n",
        "\n",
        "# 無窮迴圈(條件永遠是對的)\n",
        "while True:\n",
        "    # 0.01秒做一次判斷\n",
        "    time.sleep(0.01)\n",
        "    # (!!!JavaScript網頁語法) 請求剛剛的canvas把現在狀態轉成png給我\n",
        "    canvas_base64 = driver.execute_script(\"return arguments[0].toDataURL('image/png').substring(21);\", canvas)\n",
        "    # (不用在意) 圖片編碼BASE64(A-Z a-z 0-9)\n",
        "    canvas_png = base64.b64decode(canvas_base64)\n",
        "    # 準備我寫入入境 record/canvas.png裡\n",
        "    fn = dn + \"/canvas.png\"\n",
        "    # 把目前圖片寫入 w(字串) -> wb(原始01)\n",
        "    f = open(fn, 'wb')\n",
        "    f.write(canvas_png)\n",
        "    f.close()\n",
        "\n",
        "    # 檢查到底要不要跳:\n",
        "    # 把剛剛圖片打開 預設彩色圖片(RGBA) convert(\"L\")->灰階圖片(0:白, 255:黑)\n",
        "    img = Image.open(fn).convert(\"L\")\n",
        "    img_np = np.array(img)\n",
        "\n",
        "    # 圖片高度: 150px, 恐龍手位置大概: 下面屬上來30px\n",
        "    # 圖片寬度: 600px, 檢查範圍 60px-120px 太近:恐龍本題 太遠: 太早跳\n",
        "    # range(60, 120) -> [60, 61, ...., 119]\n",
        "    # 座標(-30, 60) -> (-30, 120) 看一下有沒有黑色霧\n",
        "    for i in range(60, 90):\n",
        "        # > 50 隨便填的, 灰色\n",
        "        if img_np[-30][i] > 50:\n",
        "            print(\"jump\")\n",
        "            actions = ActionChains(driver)\n",
        "            actions.send_keys(Keys.SPACE)\n",
        "            actions.perform()\n",
        "            break\n"
      ],
      "metadata": {
        "id": "V50XisIUy9yb"
      },
      "execution_count": null,
      "outputs": []
    }
  ]
}