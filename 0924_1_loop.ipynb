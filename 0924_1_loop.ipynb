{
  "nbformat": 4,
  "nbformat_minor": 0,
  "metadata": {
    "colab": {
      "provenance": [],
      "authorship_tag": "ABX9TyPORjxTi2sYkj12/P7PH/62",
      "include_colab_link": true
    },
    "kernelspec": {
      "name": "python3",
      "display_name": "Python 3"
    },
    "language_info": {
      "name": "python"
    }
  },
  "cells": [
    {
      "cell_type": "markdown",
      "metadata": {
        "id": "view-in-github",
        "colab_type": "text"
      },
      "source": [
        "<a href=\"https://colab.research.google.com/github/Elwing-Chou/tibame0910/blob/main/0924_1_loop.ipynb\" target=\"_parent\"><img src=\"https://colab.research.google.com/assets/colab-badge.svg\" alt=\"Open In Colab\"/></a>"
      ]
    },
    {
      "cell_type": "code",
      "execution_count": 7,
      "metadata": {
        "colab": {
          "base_uri": "https://localhost:8080/"
        },
        "id": "ihjTwgtoyKX1",
        "outputId": "90256431-c746-48dd-fe17-56f12c0f3e92"
      },
      "outputs": [
        {
          "output_type": "stream",
          "name": "stdout",
          "text": [
            "估算面積: 3.14206\n"
          ]
        }
      ],
      "source": [
        "import random\n",
        "\n",
        "inarea = 0\n",
        "total = 1000000\n",
        "i = 0\n",
        "while i < total:\n",
        "  x = random.uniform(-1, 1)\n",
        "  y = random.uniform(-1, 1)\n",
        "  if x ** 2 + y ** 2 <= 1:\n",
        "    inarea = inarea + 1\n",
        "  i = i + 1\n",
        "\n",
        "reference = 4\n",
        "ratio = inarea / total\n",
        "print(\"估算面積:\", ratio * reference)"
      ]
    },
    {
      "cell_type": "markdown",
      "source": [
        "迴圈(不是用次數): 條件要自己寫\n",
        "\n",
        "基礎型態\n",
        "1. 數字\n",
        "2. 字串\n",
        "3. 布林(是否): True False\n",
        "4. 無: 後面會說\n",
        "\n",
        "布林\n",
        "1. 不: if not a == 3\n",
        "2. 組合: and(而且) or(或者)\n",
        "!!! 中文"
      ],
      "metadata": {
        "id": "AxZeIuTj8e7E"
      }
    },
    {
      "cell_type": "code",
      "source": [
        "import random\n",
        "\n",
        "trans = [\"LOSE\", \"EVEN\", \"WIN\"]\n",
        "\n",
        "win, lose = 0, 0\n",
        "while win < 3 and lose < 3:\n",
        "  # -1: L 0: E 1: W\n",
        "  result = random.randint(-1, 1)\n",
        "  print(trans[result+1])\n",
        "  if result == 1:\n",
        "    win = win + 1\n",
        "  elif result == -1:\n",
        "    lose = lose + 1\n",
        "\n",
        "if win > lose:\n",
        "  print(\"我贏了\")\n",
        "else:\n",
        "  print(\"我輸了\")"
      ],
      "metadata": {
        "colab": {
          "base_uri": "https://localhost:8080/"
        },
        "id": "jqWCFv6w8t-1",
        "outputId": "677233b3-441f-44aa-eee2-aeea4d905b2c"
      },
      "execution_count": 14,
      "outputs": [
        {
          "output_type": "stream",
          "name": "stdout",
          "text": [
            "WIN\n",
            "EVEN\n",
            "LOSE\n",
            "WIN\n",
            "LOSE\n",
            "EVEN\n",
            "WIN\n",
            "我贏了\n"
          ]
        }
      ]
    }
  ]
}