{
  "nbformat": 4,
  "nbformat_minor": 0,
  "metadata": {
    "colab": {
      "provenance": [],
      "authorship_tag": "ABX9TyN6vbKl1U3XjBLU8TUuGQ+J",
      "include_colab_link": true
    },
    "kernelspec": {
      "name": "python3",
      "display_name": "Python 3"
    },
    "language_info": {
      "name": "python"
    }
  },
  "cells": [
    {
      "cell_type": "markdown",
      "metadata": {
        "id": "view-in-github",
        "colab_type": "text"
      },
      "source": [
        "<a href=\"https://colab.research.google.com/github/Elwing-Chou/tibame0910/blob/main/0924_1_loop.ipynb\" target=\"_parent\"><img src=\"https://colab.research.google.com/assets/colab-badge.svg\" alt=\"Open In Colab\"/></a>"
      ]
    },
    {
      "cell_type": "code",
      "execution_count": 7,
      "metadata": {
        "colab": {
          "base_uri": "https://localhost:8080/"
        },
        "id": "ihjTwgtoyKX1",
        "outputId": "90256431-c746-48dd-fe17-56f12c0f3e92"
      },
      "outputs": [
        {
          "output_type": "stream",
          "name": "stdout",
          "text": [
            "估算面積: 3.14206\n"
          ]
        }
      ],
      "source": [
        "import random\n",
        "\n",
        "inarea = 0\n",
        "total = 1000000\n",
        "i = 0\n",
        "while i < total:\n",
        "  x = random.uniform(-1, 1)\n",
        "  y = random.uniform(-1, 1)\n",
        "  if x ** 2 + y ** 2 <= 1:\n",
        "    inarea = inarea + 1\n",
        "  i = i + 1\n",
        "\n",
        "reference = 4\n",
        "ratio = inarea / total\n",
        "print(\"估算面積:\", ratio * reference)"
      ]
    },
    {
      "cell_type": "markdown",
      "source": [
        "迴圈(不是用次數): 條件要自己寫\n",
        "\n",
        "基礎型態\n",
        "1. 數字\n",
        "2. 字串\n",
        "3. 布林(是否): True False\n",
        "4. 無: 後面會說\n",
        "\n",
        "布林\n",
        "1. 不: if not a == 3\n",
        "2. 組合: and(而且) or(或者)\n",
        "!!! 中文"
      ],
      "metadata": {
        "id": "AxZeIuTj8e7E"
      }
    },
    {
      "cell_type": "code",
      "source": [
        "import random\n",
        "\n",
        "trans = [\"LOSE\", \"EVEN\", \"WIN\"]\n",
        "\n",
        "win, lose = 0, 0\n",
        "while win < 3 and lose < 3:\n",
        "  # -1: L 0: E 1: W\n",
        "  result = random.randint(-1, 1)\n",
        "  print(trans[result+1])\n",
        "  if result == 1:\n",
        "    win = win + 1\n",
        "  elif result == -1:\n",
        "    lose = lose + 1\n",
        "\n",
        "if win > lose:\n",
        "  print(\"我贏了\")\n",
        "else:\n",
        "  print(\"我輸了\")"
      ],
      "metadata": {
        "colab": {
          "base_uri": "https://localhost:8080/"
        },
        "id": "jqWCFv6w8t-1",
        "outputId": "677233b3-441f-44aa-eee2-aeea4d905b2c"
      },
      "execution_count": 14,
      "outputs": [
        {
          "output_type": "stream",
          "name": "stdout",
          "text": [
            "WIN\n",
            "EVEN\n",
            "LOSE\n",
            "WIN\n",
            "LOSE\n",
            "EVEN\n",
            "WIN\n",
            "我贏了\n"
          ]
        }
      ]
    },
    {
      "cell_type": "markdown",
      "source": [
        "1. while True: 無限次\n",
        "2. while False: 0次\n",
        "\n",
        "while True + break\n",
        "1. 條件設置比較自由\n",
        "2. 收尾工作比較自由\n",
        "3. 結束有時候比較好說中文"
      ],
      "metadata": {
        "id": "GH_91ucRHL56"
      }
    },
    {
      "cell_type": "code",
      "source": [
        "import random\n",
        "\n",
        "trans = [\"LOSE\", \"EVEN\", \"WIN\"]\n",
        "\n",
        "win, lose = 0, 0\n",
        "while True:\n",
        "  # -1: L 0: E 1: W\n",
        "  result = random.randint(-1, 1)\n",
        "  print(trans[result+1])\n",
        "  if result == 1:\n",
        "    win = win + 1\n",
        "  elif result == -1:\n",
        "    lose = lose + 1\n",
        "  # decide\n",
        "  if win == 3:\n",
        "    print(\"我贏了\")\n",
        "    break\n",
        "  elif lose == 3:\n",
        "    print(\"我輸了\")\n",
        "    break\n",
        ""
      ],
      "metadata": {
        "colab": {
          "base_uri": "https://localhost:8080/"
        },
        "id": "DF6979uPHn0C",
        "outputId": "3d1fedbe-765b-4dd4-a84c-4fb5aa215c26"
      },
      "execution_count": 20,
      "outputs": [
        {
          "output_type": "stream",
          "name": "stdout",
          "text": [
            "EVEN\n",
            "WIN\n",
            "EVEN\n",
            "LOSE\n",
            "LOSE\n",
            "LOSE\n",
            "我輸了\n"
          ]
        }
      ]
    },
    {
      "cell_type": "code",
      "source": [
        "# a = 3 b = 5, 0.6(停)\n",
        "a, b = 2, 5\n",
        "result = \"0.\"\n",
        "i = 0\n",
        "while i < 10:\n",
        "  # 2 -> 20\n",
        "  a10 = a * 10\n",
        "  # 20 // 7\n",
        "  result = result + str(a10 // b)\n",
        "  print(result)\n",
        "  # 20 % 7\n",
        "  a = a10 % b\n",
        "  if a == 0:\n",
        "    break\n",
        "  i = i + 1"
      ],
      "metadata": {
        "colab": {
          "base_uri": "https://localhost:8080/"
        },
        "id": "RPrPMw6BJ9wV",
        "outputId": "274ae405-3af9-41c1-b4b9-7db2eea30d48"
      },
      "execution_count": 23,
      "outputs": [
        {
          "output_type": "stream",
          "name": "stdout",
          "text": [
            "0.4\n"
          ]
        }
      ]
    },
    {
      "cell_type": "code",
      "source": [
        "import random\n",
        "\n",
        "low, high = 1, 100\n",
        "ans = random.randint(low+1, high-1)\n",
        "\n",
        "while True:\n",
        "  print(\"請輸入\", low, \"-\", high, \":\")\n",
        "  guess = int(input())\n",
        "  if guess > ans:\n",
        "    print(\"猜大了\")\n",
        "    high = guess\n",
        "  elif guess < ans:\n",
        "    print(\"猜小了\")\n",
        "    low = guess\n",
        "  else:\n",
        "    print(\"猜對了\")\n",
        "    break"
      ],
      "metadata": {
        "colab": {
          "base_uri": "https://localhost:8080/",
          "height": 455
        },
        "id": "8G3UquaxN0TE",
        "outputId": "ad4dd0ae-a26b-44de-d097-daae423f833f"
      },
      "execution_count": 25,
      "outputs": [
        {
          "output_type": "stream",
          "name": "stdout",
          "text": [
            "請輸入 1 - 100 :\n",
            "120\n",
            "猜大了\n",
            "請輸入 1 - 120 :\n"
          ]
        },
        {
          "output_type": "error",
          "ename": "KeyboardInterrupt",
          "evalue": "Interrupted by user",
          "traceback": [
            "\u001b[0;31m---------------------------------------------------------------------------\u001b[0m",
            "\u001b[0;31mKeyboardInterrupt\u001b[0m                         Traceback (most recent call last)",
            "\u001b[0;32m<ipython-input-25-904eefb74fed>\u001b[0m in \u001b[0;36m<cell line: 6>\u001b[0;34m()\u001b[0m\n\u001b[1;32m      6\u001b[0m \u001b[0;32mwhile\u001b[0m \u001b[0;32mTrue\u001b[0m\u001b[0;34m:\u001b[0m\u001b[0;34m\u001b[0m\u001b[0;34m\u001b[0m\u001b[0m\n\u001b[1;32m      7\u001b[0m   \u001b[0mprint\u001b[0m\u001b[0;34m(\u001b[0m\u001b[0;34m\"請輸入\"\u001b[0m\u001b[0;34m,\u001b[0m \u001b[0mlow\u001b[0m\u001b[0;34m,\u001b[0m \u001b[0;34m\"-\"\u001b[0m\u001b[0;34m,\u001b[0m \u001b[0mhigh\u001b[0m\u001b[0;34m,\u001b[0m \u001b[0;34m\":\"\u001b[0m\u001b[0;34m)\u001b[0m\u001b[0;34m\u001b[0m\u001b[0;34m\u001b[0m\u001b[0m\n\u001b[0;32m----> 8\u001b[0;31m   \u001b[0mguess\u001b[0m \u001b[0;34m=\u001b[0m \u001b[0mint\u001b[0m\u001b[0;34m(\u001b[0m\u001b[0minput\u001b[0m\u001b[0;34m(\u001b[0m\u001b[0;34m)\u001b[0m\u001b[0;34m)\u001b[0m\u001b[0;34m\u001b[0m\u001b[0;34m\u001b[0m\u001b[0m\n\u001b[0m\u001b[1;32m      9\u001b[0m   \u001b[0;32mif\u001b[0m \u001b[0mguess\u001b[0m \u001b[0;34m>\u001b[0m \u001b[0mans\u001b[0m\u001b[0;34m:\u001b[0m\u001b[0;34m\u001b[0m\u001b[0;34m\u001b[0m\u001b[0m\n\u001b[1;32m     10\u001b[0m     \u001b[0mprint\u001b[0m\u001b[0;34m(\u001b[0m\u001b[0;34m\"猜大了\"\u001b[0m\u001b[0;34m)\u001b[0m\u001b[0;34m\u001b[0m\u001b[0;34m\u001b[0m\u001b[0m\n",
            "\u001b[0;32m/usr/local/lib/python3.10/dist-packages/ipykernel/kernelbase.py\u001b[0m in \u001b[0;36mraw_input\u001b[0;34m(self, prompt)\u001b[0m\n\u001b[1;32m    849\u001b[0m                 \u001b[0;34m\"raw_input was called, but this frontend does not support input requests.\"\u001b[0m\u001b[0;34m\u001b[0m\u001b[0;34m\u001b[0m\u001b[0m\n\u001b[1;32m    850\u001b[0m             )\n\u001b[0;32m--> 851\u001b[0;31m         return self._input_request(str(prompt),\n\u001b[0m\u001b[1;32m    852\u001b[0m             \u001b[0mself\u001b[0m\u001b[0;34m.\u001b[0m\u001b[0m_parent_ident\u001b[0m\u001b[0;34m,\u001b[0m\u001b[0;34m\u001b[0m\u001b[0;34m\u001b[0m\u001b[0m\n\u001b[1;32m    853\u001b[0m             \u001b[0mself\u001b[0m\u001b[0;34m.\u001b[0m\u001b[0m_parent_header\u001b[0m\u001b[0;34m,\u001b[0m\u001b[0;34m\u001b[0m\u001b[0;34m\u001b[0m\u001b[0m\n",
            "\u001b[0;32m/usr/local/lib/python3.10/dist-packages/ipykernel/kernelbase.py\u001b[0m in \u001b[0;36m_input_request\u001b[0;34m(self, prompt, ident, parent, password)\u001b[0m\n\u001b[1;32m    893\u001b[0m             \u001b[0;32mexcept\u001b[0m \u001b[0mKeyboardInterrupt\u001b[0m\u001b[0;34m:\u001b[0m\u001b[0;34m\u001b[0m\u001b[0;34m\u001b[0m\u001b[0m\n\u001b[1;32m    894\u001b[0m                 \u001b[0;31m# re-raise KeyboardInterrupt, to truncate traceback\u001b[0m\u001b[0;34m\u001b[0m\u001b[0;34m\u001b[0m\u001b[0m\n\u001b[0;32m--> 895\u001b[0;31m                 \u001b[0;32mraise\u001b[0m \u001b[0mKeyboardInterrupt\u001b[0m\u001b[0;34m(\u001b[0m\u001b[0;34m\"Interrupted by user\"\u001b[0m\u001b[0;34m)\u001b[0m \u001b[0;32mfrom\u001b[0m \u001b[0;32mNone\u001b[0m\u001b[0;34m\u001b[0m\u001b[0;34m\u001b[0m\u001b[0m\n\u001b[0m\u001b[1;32m    896\u001b[0m             \u001b[0;32mexcept\u001b[0m \u001b[0mException\u001b[0m \u001b[0;32mas\u001b[0m \u001b[0me\u001b[0m\u001b[0;34m:\u001b[0m\u001b[0;34m\u001b[0m\u001b[0;34m\u001b[0m\u001b[0m\n\u001b[1;32m    897\u001b[0m                 \u001b[0mself\u001b[0m\u001b[0;34m.\u001b[0m\u001b[0mlog\u001b[0m\u001b[0;34m.\u001b[0m\u001b[0mwarning\u001b[0m\u001b[0;34m(\u001b[0m\u001b[0;34m\"Invalid Message:\"\u001b[0m\u001b[0;34m,\u001b[0m \u001b[0mexc_info\u001b[0m\u001b[0;34m=\u001b[0m\u001b[0;32mTrue\u001b[0m\u001b[0;34m)\u001b[0m\u001b[0;34m\u001b[0m\u001b[0;34m\u001b[0m\u001b[0m\n",
            "\u001b[0;31mKeyboardInterrupt\u001b[0m: Interrupted by user"
          ]
        }
      ]
    }
  ]
}