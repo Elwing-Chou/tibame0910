{
  "nbformat": 4,
  "nbformat_minor": 0,
  "metadata": {
    "colab": {
      "provenance": [],
      "authorship_tag": "ABX9TyMQ4tYeo+rxmUZa1FV6FvSM",
      "include_colab_link": true
    },
    "kernelspec": {
      "name": "python3",
      "display_name": "Python 3"
    },
    "language_info": {
      "name": "python"
    }
  },
  "cells": [
    {
      "cell_type": "markdown",
      "metadata": {
        "id": "view-in-github",
        "colab_type": "text"
      },
      "source": [
        "<a href=\"https://colab.research.google.com/github/Elwing-Chou/tibame0910/blob/main/0924_1_loop.ipynb\" target=\"_parent\"><img src=\"https://colab.research.google.com/assets/colab-badge.svg\" alt=\"Open In Colab\"/></a>"
      ]
    },
    {
      "cell_type": "code",
      "execution_count": 7,
      "metadata": {
        "colab": {
          "base_uri": "https://localhost:8080/"
        },
        "id": "ihjTwgtoyKX1",
        "outputId": "90256431-c746-48dd-fe17-56f12c0f3e92"
      },
      "outputs": [
        {
          "output_type": "stream",
          "name": "stdout",
          "text": [
            "估算面積: 3.14206\n"
          ]
        }
      ],
      "source": [
        "import random\n",
        "\n",
        "inarea = 0\n",
        "total = 1000000\n",
        "i = 0\n",
        "while i < total:\n",
        "  x = random.uniform(-1, 1)\n",
        "  y = random.uniform(-1, 1)\n",
        "  if x ** 2 + y ** 2 <= 1:\n",
        "    inarea = inarea + 1\n",
        "  i = i + 1\n",
        "\n",
        "reference = 4\n",
        "ratio = inarea / total\n",
        "print(\"估算面積:\", ratio * reference)"
      ]
    },
    {
      "cell_type": "markdown",
      "source": [
        "迴圈(不是用次數): 條件要自己寫\n",
        "\n",
        "基礎型態\n",
        "1. 數字\n",
        "2. 字串\n",
        "3. 布林(是否): True False\n",
        "4. 無: 後面會說\n",
        "\n",
        "布林\n",
        "1. 不: if not a == 3\n",
        "2. 組合: and(而且) or(或者)\n",
        "!!! 中文"
      ],
      "metadata": {
        "id": "AxZeIuTj8e7E"
      }
    },
    {
      "cell_type": "code",
      "source": [
        "import random\n",
        "\n",
        "trans = [\"LOSE\", \"EVEN\", \"WIN\"]\n",
        "\n",
        "win, lose = 0, 0\n",
        "while win < 3 and lose < 3:\n",
        "  # -1: L 0: E 1: W\n",
        "  result = random.randint(-1, 1)\n",
        "  print(trans[result+1])\n",
        "  if result == 1:\n",
        "    win = win + 1\n",
        "  elif result == -1:\n",
        "    lose = lose + 1\n",
        "\n",
        "if win > lose:\n",
        "  print(\"我贏了\")\n",
        "else:\n",
        "  print(\"我輸了\")"
      ],
      "metadata": {
        "colab": {
          "base_uri": "https://localhost:8080/"
        },
        "id": "jqWCFv6w8t-1",
        "outputId": "677233b3-441f-44aa-eee2-aeea4d905b2c"
      },
      "execution_count": 14,
      "outputs": [
        {
          "output_type": "stream",
          "name": "stdout",
          "text": [
            "WIN\n",
            "EVEN\n",
            "LOSE\n",
            "WIN\n",
            "LOSE\n",
            "EVEN\n",
            "WIN\n",
            "我贏了\n"
          ]
        }
      ]
    },
    {
      "cell_type": "markdown",
      "source": [
        "1. while True: 無限次\n",
        "2. while False: 0次\n",
        "\n",
        "while True + break\n",
        "1. 條件設置比較自由\n",
        "2. 收尾工作比較自由\n",
        "3. 結束有時候比較好說中文"
      ],
      "metadata": {
        "id": "GH_91ucRHL56"
      }
    },
    {
      "cell_type": "code",
      "source": [
        "import random\n",
        "\n",
        "trans = [\"LOSE\", \"EVEN\", \"WIN\"]\n",
        "\n",
        "win, lose = 0, 0\n",
        "while True:\n",
        "  # -1: L 0: E 1: W\n",
        "  result = random.randint(-1, 1)\n",
        "  print(trans[result+1])\n",
        "  if result == 1:\n",
        "    win = win + 1\n",
        "  elif result == -1:\n",
        "    lose = lose + 1\n",
        "  # decide\n",
        "  if win == 3:\n",
        "    print(\"我贏了\")\n",
        "    break\n",
        "  elif lose == 3:\n",
        "    print(\"我輸了\")\n",
        "    break\n",
        ""
      ],
      "metadata": {
        "colab": {
          "base_uri": "https://localhost:8080/"
        },
        "id": "DF6979uPHn0C",
        "outputId": "3d1fedbe-765b-4dd4-a84c-4fb5aa215c26"
      },
      "execution_count": 20,
      "outputs": [
        {
          "output_type": "stream",
          "name": "stdout",
          "text": [
            "EVEN\n",
            "WIN\n",
            "EVEN\n",
            "LOSE\n",
            "LOSE\n",
            "LOSE\n",
            "我輸了\n"
          ]
        }
      ]
    },
    {
      "cell_type": "code",
      "source": [
        "# a = 3 b = 5, 0.6(停)\n",
        "a, b = 2, 5\n",
        "result = \"0.\"\n",
        "i = 0\n",
        "while i < 10:\n",
        "  # 2 -> 20\n",
        "  a10 = a * 10\n",
        "  # 20 // 7\n",
        "  result = result + str(a10 // b)\n",
        "  print(result)\n",
        "  # 20 % 7\n",
        "  a = a10 % b\n",
        "  if a == 0:\n",
        "    break\n",
        "  i = i + 1"
      ],
      "metadata": {
        "colab": {
          "base_uri": "https://localhost:8080/"
        },
        "id": "RPrPMw6BJ9wV",
        "outputId": "274ae405-3af9-41c1-b4b9-7db2eea30d48"
      },
      "execution_count": 23,
      "outputs": [
        {
          "output_type": "stream",
          "name": "stdout",
          "text": [
            "0.4\n"
          ]
        }
      ]
    },
    {
      "cell_type": "code",
      "source": [
        "import random\n",
        "\n",
        "low, high = 1, 100\n",
        "ans = random.randint(low+1, high-1)\n",
        "\n",
        "while True:\n",
        "  print(\"請輸入\", low, \"-\", high, \":\")\n",
        "  guess = int(input())\n",
        "  if guess > ans:\n",
        "    print(\"猜大了\")\n",
        "    high = guess\n",
        "  elif guess < ans:\n",
        "    print(\"猜小了\")\n",
        "    low = guess\n",
        "  else:\n",
        "    print(\"猜對了\")\n",
        "    break"
      ],
      "metadata": {
        "id": "8G3UquaxN0TE"
      },
      "execution_count": null,
      "outputs": []
    },
    {
      "cell_type": "code",
      "source": [
        "import random\n",
        "\n",
        "low, high = 1, 100\n",
        "ans = random.randint(low+1, high-1)\n",
        "\n",
        "while True:\n",
        "  print(\"請輸入\", low, \"-\", high, \":\")\n",
        "  guess = int(input())\n",
        "  if guess > low and guess < high:\n",
        "    if guess > ans:\n",
        "      print(\"猜大了\")\n",
        "      high = guess\n",
        "    elif guess < ans:\n",
        "      print(\"猜小了\")\n",
        "      low = guess\n",
        "    else:\n",
        "      print(\"猜對了\")\n",
        "      break\n",
        "  else:\n",
        "    print(\"輸入錯誤\")"
      ],
      "metadata": {
        "id": "sWWuQ7ijROpG"
      },
      "execution_count": null,
      "outputs": []
    },
    {
      "cell_type": "code",
      "source": [
        "import random\n",
        "\n",
        "low, high = 1, 100\n",
        "ans = random.randint(low+1, high-1)\n",
        "\n",
        "while True:\n",
        "  print(\"請輸入\", low, \"-\", high, \":\")\n",
        "  guess = int(input())\n",
        "  if guess <= low or guess >= high:\n",
        "    print(\"輸入錯誤\")\n",
        "  else:\n",
        "    if guess > ans:\n",
        "      print(\"猜大了\")\n",
        "      high = guess\n",
        "    elif guess < ans:\n",
        "      print(\"猜小了\")\n",
        "      low = guess\n",
        "    else:\n",
        "      print(\"猜對了\")\n",
        "      break"
      ],
      "metadata": {
        "id": "IL0VyaRZR7Nc"
      },
      "execution_count": null,
      "outputs": []
    },
    {
      "cell_type": "markdown",
      "source": [
        "如果是我 我會選擇下面這種 但你先選上面其中之一"
      ],
      "metadata": {
        "id": "4OSNpaEuTeSy"
      }
    },
    {
      "cell_type": "code",
      "source": [
        "import random\n",
        "\n",
        "low, high = 1, 100\n",
        "ans = random.randint(low+1, high-1)\n",
        "\n",
        "while True:\n",
        "  while True:\n",
        "    print(\"請輸入\", low, \"-\", high, \":\")\n",
        "    guess = int(input())\n",
        "    if low < guess < high:\n",
        "      break\n",
        "    else:\n",
        "      print(\"輸入錯誤\")\n",
        "\n",
        "  if guess > ans:\n",
        "    print(\"猜大了\")\n",
        "    high = guess\n",
        "  elif guess < ans:\n",
        "    print(\"猜小了\")\n",
        "    low = guess\n",
        "  else:\n",
        "    print(\"猜對了\")\n",
        "    break"
      ],
      "metadata": {
        "id": "Y4l-JhmHSKeO"
      },
      "execution_count": null,
      "outputs": []
    }
  ]
}