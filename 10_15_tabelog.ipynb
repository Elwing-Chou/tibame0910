{
  "nbformat": 4,
  "nbformat_minor": 0,
  "metadata": {
    "colab": {
      "provenance": [],
      "authorship_tag": "ABX9TyMPSG6GoT//s6d1CNP9a7pN",
      "include_colab_link": true
    },
    "kernelspec": {
      "name": "python3",
      "display_name": "Python 3"
    },
    "language_info": {
      "name": "python"
    }
  },
  "cells": [
    {
      "cell_type": "markdown",
      "metadata": {
        "id": "view-in-github",
        "colab_type": "text"
      },
      "source": [
        "<a href=\"https://colab.research.google.com/github/Elwing-Chou/tibame0910/blob/main/10_15_tabelog.ipynb\" target=\"_parent\"><img src=\"https://colab.research.google.com/assets/colab-badge.svg\" alt=\"Open In Colab\"/></a>"
      ]
    },
    {
      "cell_type": "code",
      "execution_count": null,
      "metadata": {
        "id": "dIiDdeS7SLmu"
      },
      "outputs": [],
      "source": []
    },
    {
      "cell_type": "markdown",
      "source": [
        "\n",
        "HTML格式\n",
        "一個區塊!!!\n",
        "\n",
        "<a href=\"xxx\"> -> start\n",
        "  餐廳名字\n",
        "</a> -> end\n",
        "\n",
        "1. 名字: 區塊是拿來幹嘛的\n",
        "  a: 超連結 img: 圖片 video: 影片\n",
        "\n",
        "2. 屬性: 區塊詳細東西(名=直)\n",
        "  a href=\"連結到網址\"\n",
        "  img src=\"圖片網址\"\n",
        "  video src=\"xx\"\n",
        "\n",
        "3. 顯示內容:"
      ],
      "metadata": {
        "id": "cv1NPyn8SRER"
      }
    },
    {
      "cell_type": "markdown",
      "source": [
        "網頁三要素(前端)\n",
        "1. HTML(根本): 網頁內容\n",
        "2. CSS: 網頁排版\n",
        "3. JavaScript: 網頁動態(X)\n",
        "\n",
        "CSS語法: 選到某些HTML元素並且加上排版\n",
        "\n",
        "1. 選擇元素名字:\n",
        "a{\n",
        "  background-color:red;\n",
        "}\n",
        "\n",
        "為了讓這些a有不一樣的地方, 所以我會加入兩個排版屬性\n",
        "class=\"分類1 分類2\"\n",
        "2. 選擇HTML特殊屬性class\n",
        ".分類{\n",
        "}\n",
        "\n",
        "id=\"獨有身分證\"\n",
        "3. 選擇屬性id\n",
        "#身分證{\n",
        "}"
      ],
      "metadata": {
        "id": "rT01a8Eb3WzY"
      }
    },
    {
      "cell_type": "code",
      "source": [
        "import urllib.request as req\n",
        "# 第三方: BeautifulSoup4\n",
        "import bs4 as bs\n",
        "\n",
        "url = \"https://tabelog.com/tw/tokyo/rstLst/1/?SrtT=rt\"\n",
        "response = req.urlopen(url)\n",
        "# .read() -> 型態轉換 json.loads(xx)\n",
        "html = bs.BeautifulSoup(response)\n",
        "# 區塊專屬功能: find/find_all(\"html名字\", 篩選條件class/id)\n",
        "# html.find(\"a\", {\"class\":\"list-rst__rst-name-target\"})\n",
        "rs = html.find_all(\"div\", {\"class\":\"list-rst__body\"})\n",
        "# 不能直接繼續find, rs->list型態\n",
        "for r in rs:\n",
        "  en = r.find(\"a\", {\"class\":\"list-rst__rst-name-target\"})\n",
        "  # 萃取你需要的\n",
        "  # 1. 特殊屬性: 區塊[\"href\"]\n",
        "  # 一個型態可以具備什麼 a. 專屬功能(人.吃飯()) b. 專屬值(人.身高)\n",
        "  # 2. 內容(專屬值): 區塊.text\n",
        "  print(en.text)\n",
        "  print(en[\"href\"])\n",
        "  print(\"-\" * 30)"
      ],
      "metadata": {
        "id": "viKSIy2rD3SD"
      },
      "execution_count": null,
      "outputs": []
    },
    {
      "cell_type": "markdown",
      "source": [
        "字串的專屬功能: python string method"
      ],
      "metadata": {
        "id": "wim5knLCTr3M"
      }
    },
    {
      "cell_type": "code",
      "source": [
        "import urllib.request as req\n",
        "# 第三方: BeautifulSoup4\n",
        "import bs4 as bs\n",
        "\n",
        "url = \"https://tabelog.com/tw/tokyo/rstLst/1/?SrtT=rt\"\n",
        "response = req.urlopen(url)\n",
        "html = bs.BeautifulSoup(response)\n",
        "\n",
        "rs = html.find_all(\"div\", {\"class\":\"list-rst__body\"})\n",
        "for r in rs:\n",
        "  en = r.find(\"a\", {\"class\":\"list-rst__rst-name-target\"})\n",
        "  rating = r.find(\"span\", {\"class\":\"c-rating__val\"})\n",
        "  intro = r.find(\"p\", {\"class\":\"list-rst__pr-title\"})\n",
        "  prices = r.find_all(\"span\", {\"class\":\"c-rating-v3__val\"})\n",
        "  # extract\n",
        "  en_text = en.text\n",
        "  en_href = en[\"href\"]\n",
        "  rating_text = rating.text\n",
        "  if intro == None:\n",
        "    intro_text = \"無\"\n",
        "  else:\n",
        "    intro_text = intro.text\n",
        "  dinner_price = prices[0].text\n",
        "  lunch_price = prices[1].text\n",
        "  # 字串的strip/lstrip/rstrip\n",
        "  intro_text = intro_text.strip()\n",
        "  # print\n",
        "  print(rating_text)\n",
        "  print(en_text)\n",
        "  print(en_href)\n",
        "  print(intro_text)\n",
        "  print(dinner_price)\n",
        "  print(lunch_price)\n",
        "  print(\"-\" * 30)"
      ],
      "metadata": {
        "id": "-l15-cV_SHhd"
      },
      "execution_count": null,
      "outputs": []
    }
  ]
}