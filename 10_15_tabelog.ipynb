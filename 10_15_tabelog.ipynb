{
  "nbformat": 4,
  "nbformat_minor": 0,
  "metadata": {
    "colab": {
      "provenance": [],
      "authorship_tag": "ABX9TyNh/VR3eFj/XlJEhTSb/IM+",
      "include_colab_link": true
    },
    "kernelspec": {
      "name": "python3",
      "display_name": "Python 3"
    },
    "language_info": {
      "name": "python"
    }
  },
  "cells": [
    {
      "cell_type": "markdown",
      "metadata": {
        "id": "view-in-github",
        "colab_type": "text"
      },
      "source": [
        "<a href=\"https://colab.research.google.com/github/Elwing-Chou/tibame0910/blob/main/10_15_tabelog.ipynb\" target=\"_parent\"><img src=\"https://colab.research.google.com/assets/colab-badge.svg\" alt=\"Open In Colab\"/></a>"
      ]
    },
    {
      "cell_type": "code",
      "execution_count": null,
      "metadata": {
        "id": "dIiDdeS7SLmu"
      },
      "outputs": [],
      "source": []
    },
    {
      "cell_type": "markdown",
      "source": [
        "\n",
        "HTML格式\n",
        "一個區塊!!!\n",
        "\n",
        "<a href=\"xxx\"> -> start\n",
        "  餐廳名字\n",
        "</a> -> end\n",
        "\n",
        "1. 名字: 區塊是拿來幹嘛的\n",
        "  a: 超連結 img: 圖片 video: 影片\n",
        "\n",
        "2. 屬性: 區塊詳細東西(名=直)\n",
        "  a href=\"連結到網址\"\n",
        "  img src=\"圖片網址\"\n",
        "  video src=\"xx\"\n",
        "\n",
        "3. 顯示內容:"
      ],
      "metadata": {
        "id": "cv1NPyn8SRER"
      }
    },
    {
      "cell_type": "markdown",
      "source": [
        "網頁三要素(前端)\n",
        "1. HTML(根本): 網頁內容\n",
        "2. CSS: 網頁排版\n",
        "3. JavaScript: 網頁動態(X)\n",
        "\n",
        "CSS語法: 選到某些HTML元素並且加上排版\n",
        "\n",
        "1. 選擇元素名字:\n",
        "a{\n",
        "  background-color:red;\n",
        "}\n",
        "\n",
        "為了讓這些a有不一樣的地方, 所以我會加入兩個排版屬性\n",
        "class=\"分類1 分類2\"\n",
        "2. 選擇HTML特殊屬性class\n",
        ".分類{\n",
        "}\n",
        "\n",
        "id=\"獨有身分證\"\n",
        "3. 選擇屬性id\n",
        "#身分證{\n",
        "}"
      ],
      "metadata": {
        "id": "rT01a8Eb3WzY"
      }
    }
  ]
}