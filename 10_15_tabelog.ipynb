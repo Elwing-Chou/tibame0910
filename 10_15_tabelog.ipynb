{
  "nbformat": 4,
  "nbformat_minor": 0,
  "metadata": {
    "colab": {
      "provenance": [],
      "authorship_tag": "ABX9TyOyFQLNdP7T3gcALpdc1XF9",
      "include_colab_link": true
    },
    "kernelspec": {
      "name": "python3",
      "display_name": "Python 3"
    },
    "language_info": {
      "name": "python"
    }
  },
  "cells": [
    {
      "cell_type": "markdown",
      "metadata": {
        "id": "view-in-github",
        "colab_type": "text"
      },
      "source": [
        "<a href=\"https://colab.research.google.com/github/Elwing-Chou/tibame0910/blob/main/10_15_tabelog.ipynb\" target=\"_parent\"><img src=\"https://colab.research.google.com/assets/colab-badge.svg\" alt=\"Open In Colab\"/></a>"
      ]
    },
    {
      "cell_type": "code",
      "execution_count": null,
      "metadata": {
        "id": "dIiDdeS7SLmu"
      },
      "outputs": [],
      "source": []
    },
    {
      "cell_type": "markdown",
      "source": [
        "\n",
        "HTML格式\n",
        "一個區塊!!!\n",
        "\n",
        "<a href=\"xxx\"> -> start\n",
        "  餐廳名字\n",
        "</a> -> end\n",
        "\n",
        "1. 名字: 區塊是拿來幹嘛的\n",
        "  a: 超連結 img: 圖片 video: 影片\n",
        "\n",
        "2. 屬性: 區塊詳細東西(名=直)\n",
        "  a href=\"連結到網址\"\n",
        "  img src=\"圖片網址\"\n",
        "  video src=\"xx\"\n",
        "\n",
        "3. 顯示內容:"
      ],
      "metadata": {
        "id": "cv1NPyn8SRER"
      }
    },
    {
      "cell_type": "markdown",
      "source": [
        "網頁三要素(前端)\n",
        "1. HTML(根本): 網頁內容\n",
        "2. CSS: 網頁排版\n",
        "3. JavaScript: 網頁動態(X)\n",
        "\n",
        "CSS語法: 選到某些HTML元素並且加上排版\n",
        "\n",
        "1. 選擇元素名字:\n",
        "a{\n",
        "  background-color:red;\n",
        "}\n",
        "\n",
        "為了讓這些a有不一樣的地方, 所以我會加入兩個排版屬性\n",
        "class=\"分類1 分類2\"\n",
        "2. 選擇HTML特殊屬性class\n",
        ".分類{\n",
        "}\n",
        "\n",
        "id=\"獨有身分證\"\n",
        "3. 選擇屬性id\n",
        "#身分證{\n",
        "}"
      ],
      "metadata": {
        "id": "rT01a8Eb3WzY"
      }
    },
    {
      "cell_type": "code",
      "source": [
        "import urllib.request as req\n",
        "# 第三方: BeautifulSoup4\n",
        "import bs4 as bs\n",
        "\n",
        "url = \"https://tabelog.com/tw/tokyo/rstLst/1/?SrtT=rt\"\n",
        "response = req.urlopen(url)\n",
        "# .read() -> 型態轉換 json.loads(xx)\n",
        "html = bs.BeautifulSoup(response)\n",
        "# 專屬功能: find/find_all(\"html名字\", 篩選條件class/id)\n",
        "html.find(\"a\", {\"class\":\"list-rst__rst-name-target\"})"
      ],
      "metadata": {
        "colab": {
          "base_uri": "https://localhost:8080/"
        },
        "id": "viKSIy2rD3SD",
        "outputId": "ea477732-bedb-4a75-e374-3ea964c33b8e"
      },
      "execution_count": 5,
      "outputs": [
        {
          "output_type": "execute_result",
          "data": {
            "text/plain": [
              "<a class=\"list-rst__rst-name-target cpy-rst-name\" data-list-dest=\"item_top\" href=\"https://tabelog.com/tw/tokyo/A1302/A130204/13018162/\" rel=\"noopener\" target=\"_blank\">Nihonbashi Kakigaracho Sugita</a>"
            ]
          },
          "metadata": {},
          "execution_count": 5
        }
      ]
    }
  ]
}