{
  "nbformat": 4,
  "nbformat_minor": 0,
  "metadata": {
    "colab": {
      "provenance": [],
      "authorship_tag": "ABX9TyMBVIgBbFzCcWxb17k9MLfZ",
      "include_colab_link": true
    },
    "kernelspec": {
      "name": "python3",
      "display_name": "Python 3"
    },
    "language_info": {
      "name": "python"
    }
  },
  "cells": [
    {
      "cell_type": "markdown",
      "metadata": {
        "id": "view-in-github",
        "colab_type": "text"
      },
      "source": [
        "<a href=\"https://colab.research.google.com/github/Elwing-Chou/tibame0910/blob/main/10_15_tabelog.ipynb\" target=\"_parent\"><img src=\"https://colab.research.google.com/assets/colab-badge.svg\" alt=\"Open In Colab\"/></a>"
      ]
    },
    {
      "cell_type": "code",
      "execution_count": null,
      "metadata": {
        "id": "dIiDdeS7SLmu"
      },
      "outputs": [],
      "source": []
    },
    {
      "cell_type": "markdown",
      "source": [
        "\n",
        "HTML格式\n",
        "一個區塊!!!\n",
        "\n",
        "<a href=\"xxx\"> -> start\n",
        "  餐廳名字\n",
        "</a> -> end\n",
        "\n",
        "1. 名字: 區塊是拿來幹嘛的\n",
        "  a: 超連結 img: 圖片 video: 影片\n",
        "\n",
        "2. 屬性: 區塊詳細東西(名=直)\n",
        "  a href=\"連結到網址\"\n",
        "  img src=\"圖片網址\"\n",
        "  video src=\"xx\"\n",
        "\n",
        "3. 顯示內容:"
      ],
      "metadata": {
        "id": "cv1NPyn8SRER"
      }
    }
  ]
}