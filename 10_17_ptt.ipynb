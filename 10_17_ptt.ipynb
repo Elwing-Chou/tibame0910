{
  "nbformat": 4,
  "nbformat_minor": 0,
  "metadata": {
    "colab": {
      "provenance": [],
      "authorship_tag": "ABX9TyPov7JoAJWr/afKxz3cXolE",
      "include_colab_link": true
    },
    "kernelspec": {
      "name": "python3",
      "display_name": "Python 3"
    },
    "language_info": {
      "name": "python"
    }
  },
  "cells": [
    {
      "cell_type": "markdown",
      "metadata": {
        "id": "view-in-github",
        "colab_type": "text"
      },
      "source": [
        "<a href=\"https://colab.research.google.com/github/Elwing-Chou/tibame0910/blob/main/10_17_ptt.ipynb\" target=\"_parent\"><img src=\"https://colab.research.google.com/assets/colab-badge.svg\" alt=\"Open In Colab\"/></a>"
      ]
    },
    {
      "cell_type": "markdown",
      "source": [
        "HTTP代碼\n",
        "2: OK\n",
        "3: 轉址\n",
        "4: 錯誤\n",
        "404(Not Found): 網址打錯 或者 網站不存在\n",
        "403(Forbidden): a. IP ban(數次以後) b. 你真的跟瀏覽器不依樣(headers)"
      ],
      "metadata": {
        "id": "D_SznorcZ9G9"
      }
    },
    {
      "cell_type": "markdown",
      "source": [
        "\n",
        "f = open(\"xx\", \"w/r\", encoding=\"utf-8\")\n",
        "f.write(\"xxx\")\n",
        "f.close()\n",
        "\n",
        "!!! 非純文字檔的存取\n",
        "\n",
        "\"w/r\" -> \"wb/rb\"\n",
        "不用寫encoding"
      ],
      "metadata": {
        "id": "0rKeuTDbf1OY"
      }
    },
    {
      "cell_type": "markdown",
      "source": [
        "!!! 有些事情是沒辦法用if-else去預防的\n",
        "\n",
        "1. 事情預防: if-else\n",
        "2. 事後解決: try-except\n",
        "\n",
        "try:\n",
        "  有機會發生錯誤的程式碼\n",
        "except XXError:\n",
        "  針對這種錯誤的解決方案準備好\n",
        "\n",
        "1. 程式碼沒發生錯誤: except不會跑到\n",
        "\n",
        "2. 程式碼真的發生錯誤\n",
        "a. 發生的是你except的錯誤: 就跑except\n",
        "b. 發生的不是你except的錯誤: 紅字"
      ],
      "metadata": {
        "id": "WgRsQJO-kolm"
      }
    },
    {
      "cell_type": "code",
      "execution_count": null,
      "metadata": {
        "colab": {
          "base_uri": "https://localhost:8080/"
        },
        "id": "g_H19cnTZjaB",
        "outputId": "b3fe959f-55fc-4618-e40e-9fc02a687474"
      },
      "outputs": [
        {
          "output_type": "stream",
          "name": "stdout",
          "text": [
            "https://cache.ptt.cc/c/https/i.imgur.com/P4Riwynl.jpeg?e=1729347894&s=sDYBT4SjyycLUmXLT-RRJw\n",
            "https://cache.ptt.cc/c/https/i.imgur.com/SesXi4bl.jpeg?e=1729306841&s=eMtYqxjp9ibG2qrq4YiVqw\n",
            "https://cache.ptt.cc/c/https/i.imgur.com/p7KlI8l.jpeg?e=1729306278&s=Cp_f9pqt8x6EztIvChU29A\n"
          ]
        }
      ],
      "source": [
        "import os\n",
        "import urllib.request as req\n",
        "import urllib.error as err\n",
        "import bs4 as bs\n",
        "\n",
        "# 開資料夾: 如果資料夾不存在舊開啟\n",
        "dirname = \"ptt\"\n",
        "if not os.path.exists(dirname):\n",
        "  os.makedirs(dirname)\n",
        "\n",
        "url = \"https://www.ptt.cc/bbs/Beauty/M.1726459216.A.3F7.html\"\n",
        "r = req.Request(url)\n",
        "r.add_header(\"User-Agent\", \"Mozilla/5.0 (Windows NT 10.0; Win64; x64) AppleWebKit/537.36 (KHTML, like Gecko) Chrome/129.0.0.0 Safari/537.36 Edg/129.0.0.0\")\n",
        "# if need add cookie\n",
        "# r.add_header(\"Cookie\", \"over18=1\")\n",
        "response = req.urlopen(r)\n",
        "html = bs.BeautifulSoup(response)\n",
        "\n",
        "imgs = html.find_all(\"img\")\n",
        "for i in range(len(imgs)):\n",
        "  img = imgs[i]\n",
        "  src = img[\"src\"]\n",
        "  subname = src.split(\"?\")[0].split(\".\")[-1]\n",
        "  fname = dirname + \"/\" + str(i) + \".\" + subname\n",
        "\n",
        "  try:\n",
        "    # 打開圖片網址得到圖片\n",
        "    print(src)\n",
        "    r = req.Request(src)\n",
        "    r.add_header(\"User-Agent\", \"Mozilla/5.0 (Windows NT 10.0; Win64; x64) AppleWebKit/537.36 (KHTML, like Gecko) Chrome/129.0.0.0 Safari/537.36 Edg/129.0.0.0\")\n",
        "    imgf = req.urlopen(r)\n",
        "    content = imgf.read()\n",
        "    # 開啟一個本地檔案把你得到的圖片寫入\n",
        "    f = open(fname, \"wb\")\n",
        "    f.write(content)\n",
        "    f.close()\n",
        "  except err.HTTPError:\n",
        "    print(\"[Error]\", src)"
      ]
    }
  ]
}