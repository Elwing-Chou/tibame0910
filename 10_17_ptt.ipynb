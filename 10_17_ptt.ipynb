{
  "nbformat": 4,
  "nbformat_minor": 0,
  "metadata": {
    "colab": {
      "provenance": [],
      "authorship_tag": "ABX9TyN2CJ0wJo/0wo06f9XDEU8y",
      "include_colab_link": true
    },
    "kernelspec": {
      "name": "python3",
      "display_name": "Python 3"
    },
    "language_info": {
      "name": "python"
    }
  },
  "cells": [
    {
      "cell_type": "markdown",
      "metadata": {
        "id": "view-in-github",
        "colab_type": "text"
      },
      "source": [
        "<a href=\"https://colab.research.google.com/github/Elwing-Chou/tibame0910/blob/main/10_17_ptt.ipynb\" target=\"_parent\"><img src=\"https://colab.research.google.com/assets/colab-badge.svg\" alt=\"Open In Colab\"/></a>"
      ]
    },
    {
      "cell_type": "markdown",
      "source": [
        "HTTP代碼\n",
        "2: OK\n",
        "3: 轉址\n",
        "4: 錯誤\n",
        "404(Not Found): 網址打錯 或者 網站不存在\n",
        "403(Forbidden): a. IP ban(數次以後) b. 你真的跟瀏覽器不依樣(headers)"
      ],
      "metadata": {
        "id": "D_SznorcZ9G9"
      }
    },
    {
      "cell_type": "code",
      "execution_count": 3,
      "metadata": {
        "colab": {
          "base_uri": "https://localhost:8080/"
        },
        "id": "g_H19cnTZjaB",
        "outputId": "acb84d69-dfa7-45ca-a9f5-619b72aa4a19"
      },
      "outputs": [
        {
          "output_type": "stream",
          "name": "stdout",
          "text": [
            "https://cache.ptt.cc/c/https/i.imgur.com/P4Riwynl.jpeg?e=1729347894&s=sDYBT4SjyycLUmXLT-RRJw\n",
            "https://cache.ptt.cc/c/https/i.imgur.com/SesXi4bl.jpeg?e=1729306841&s=eMtYqxjp9ibG2qrq4YiVqw\n",
            "https://cache.ptt.cc/c/https/i.imgur.com/p7KlI8l.jpeg?e=1729306278&s=Cp_f9pqt8x6EztIvChU29A\n",
            "https://cache.ptt.cc/c/https/i.imgur.com/f39Y8rHl.jpeg?e=1729321446&s=3pFwz1javKK8r6iZMStQ0A\n",
            "https://cache.ptt.cc/c/https/i.imgur.com/3wCAx8Gl.jpeg?e=1729329392&s=DAJnroy0YyBJts3QzF8KPA\n",
            "https://cache.ptt.cc/c/https/i.imgur.com/m2EuziSl.jpeg?e=1729309742&s=bkujUXu7529rhRkftrcBSQ\n",
            "https://cache.ptt.cc/c/https/i.imgur.com/viR8QKsl.jpeg?e=1729301549&s=AYm2dR6Wt0Ula0Wg_RMzJw\n",
            "https://cache.ptt.cc/c/https/i.imgur.com/e4ho9vQl.jpeg?e=1729363175&s=JT3V9A28E1AwSCJnDyrtLw\n",
            "https://cache.ptt.cc/c/https/i.imgur.com/3nEh4AEl.jpg?e=1729308254&s=vFA491rFb-BepIWvvSzPTQ\n",
            "https://cache.ptt.cc/c/https/i.imgur.com/3DT5Iinl.jpeg?e=1729304817&s=mdoJkCG6e52rUdNqdZqOAw\n",
            "https://cache.ptt.cc/c/https/i.imgur.com/euTO0fNl.jpeg?e=1729360602&s=VT2XzJbjZp0I2KPPyJUCNw\n",
            "https://cache.ptt.cc/c/https/i.imgur.com/hW0C2O6l.jpeg?e=1729311732&s=kEpHYFiKOPK89scRS-kHuQ\n",
            "https://cache.ptt.cc/c/https/i.imgur.com/g8frbyFl.jpeg?e=1729361245&s=UiTJ8GxrfnQ5Wo8r9DR9bw\n"
          ]
        }
      ],
      "source": [
        "import urllib.request as req\n",
        "import bs4 as bs\n",
        "\n",
        "url = \"https://www.ptt.cc/bbs/Beauty/M.1726459216.A.3F7.html\"\n",
        "r = req.Request(url)\n",
        "r.add_header(\"User-Agent\", \"Mozilla/5.0 (Windows NT 10.0; Win64; x64) AppleWebKit/537.36 (KHTML, like Gecko) Chrome/129.0.0.0 Safari/537.36 Edg/129.0.0.0\")\n",
        "response = req.urlopen(r)\n",
        "html = bs.BeautifulSoup(response)\n",
        "\n",
        "imgs = html.find_all(\"img\")\n",
        "for img in imgs:\n",
        "  print(img[\"src\"])"
      ]
    }
  ]
}